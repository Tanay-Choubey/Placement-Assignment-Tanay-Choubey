{
  "nbformat": 4,
  "nbformat_minor": 0,
  "metadata": {
    "colab": {
      "provenance": []
    },
    "kernelspec": {
      "name": "python3",
      "display_name": "Python 3"
    },
    "language_info": {
      "name": "python"
    }
  },
  "cells": [
    {
      "cell_type": "markdown",
      "source": [
        "# **Python**\n"
      ],
      "metadata": {
        "id": "SGRzVU1o5Nwf"
      }
    },
    {
      "cell_type": "markdown",
      "source": [
        "\n",
        "\n",
        "---\n",
        "\n"
      ],
      "metadata": {
        "id": "6x_nOZNf8Sdv"
      }
    },
    {
      "cell_type": "markdown",
      "source": [
        "**Question 1 :-**\n",
        "\n",
        "\n",
        "Write a program that takes a string as input, and counts the frequency of each word in the string, there might\n",
        "be repeated characters in the string. Your task is to find the highest frequency and returns the length of the\n",
        "highest-frequency word.\n",
        "\n",
        "\n",
        "**Note** - You have to write at least 2 additional test cases in which your program will run successfully and provide\n",
        "an explanation for the same.\n",
        "\n",
        "Example input - `string = “write write write all the number from from from 1 to 100”`\n",
        "\n",
        "Example output - `5`\n",
        "\n",
        "Explanation - From the given string we can note that the most frequent words are “write” and “from” and\n",
        "the maximum value of both the values is “write” and its corresponding length is 5\n"
      ],
      "metadata": {
        "id": "CaVWnOGZ5lx3"
      }
    },
    {
      "cell_type": "markdown",
      "source": [
        "**Answer 1 :-** "
      ],
      "metadata": {
        "id": "7T_betbv6oUY"
      }
    },
    {
      "cell_type": "code",
      "source": [
        "def find_highest_frequency(string):\n",
        "    # Split the string into words\n",
        "    words = string.split()\n",
        "\n",
        "    # Count the frequency of each word\n",
        "    word_freq = {}\n",
        "    for word in words:\n",
        "        word_freq[word] = word_freq.get(word, 0) + 1\n",
        "\n",
        "    # Find the highest frequency\n",
        "    max_freq = max(word_freq.values())\n",
        "\n",
        "    # Find the length of the highest-frequency word\n",
        "    highest_word = max(word_freq, key=word_freq.get)\n",
        "    highest_length = len(highest_word)\n",
        "\n",
        "    return highest_length"
      ],
      "metadata": {
        "id": "yhTc_24nBpwE"
      },
      "execution_count": null,
      "outputs": []
    },
    {
      "cell_type": "code",
      "source": [
        "string = \"Tanay Tanay Tanay is the student at iNeuron iNeuron iNeuron iNeuron iNeuron\"\n",
        "print(find_highest_frequency(string))"
      ],
      "metadata": {
        "colab": {
          "base_uri": "https://localhost:8080/"
        },
        "id": "L0qRWAMv7T7w",
        "outputId": "011b4940-2c11-4d75-f734-415178e83f17"
      },
      "execution_count": null,
      "outputs": [
        {
          "output_type": "stream",
          "name": "stdout",
          "text": [
            "7\n"
          ]
        }
      ]
    },
    {
      "cell_type": "markdown",
      "source": [
        "\n",
        "\n",
        "---\n",
        "\n"
      ],
      "metadata": {
        "id": "saD9qjK98PbX"
      }
    },
    {
      "cell_type": "markdown",
      "source": [
        "**Question 2 :-**\n",
        "\n",
        "Consider a string to be valid if all characters of the string appear the same number of times. It is also valid if he can remove just one character at the index in the string, and the remaining characters will occur the same number of times. Given a string, determine if it is valid. If so, return YES , otherwise return NO.\n",
        "\n",
        "**Note** - You have to write at least 2 additional test cases in which your program will run successfully and provide\n",
        "an explanation for the same.\n",
        "\n",
        "Example input 1 - `s = “abc”. This is a valid string because frequencies are { “a”: 1, “b”: 1, “c”: 1 }`\n",
        "\n",
        "Example output 1- `YES`\n",
        "\n",
        "Example input 2 - `s “abcc”. This string is not valid as we can remove only 1 occurrence of “c”. That leaves character frequencies of { “a”: 1, “b”: 1 , “c”: 2 }`\n",
        "\n",
        "Example output 2 - `NO`"
      ],
      "metadata": {
        "id": "p3jXKk028QZv"
      }
    },
    {
      "cell_type": "markdown",
      "source": [
        "**Answer 2 :-**"
      ],
      "metadata": {
        "id": "tn3aFW7qWSCU"
      }
    },
    {
      "cell_type": "code",
      "source": [
        "def is_valid_string(s):\n",
        "    char_count = {}\n",
        "    for char in s:\n",
        "        char_count[char] = char_count.get(char, 0) + 1\n",
        "\n",
        "    frequencies = set(char_count.values())\n",
        "\n",
        "    if len(frequencies) == 1:\n",
        "        return \"YES\"\n",
        "    elif len(frequencies) == 2 and 1 in frequencies:\n",
        "        return \"YES\"\n",
        "    \n",
        "    return \"NO\""
      ],
      "metadata": {
        "id": "i4DKdxnj7rpV"
      },
      "execution_count": null,
      "outputs": []
    },
    {
      "cell_type": "code",
      "source": [
        "string1 = \"abcde\"\n",
        "print(is_valid_string(string))"
      ],
      "metadata": {
        "colab": {
          "base_uri": "https://localhost:8080/"
        },
        "id": "NiU3MksvXUg_",
        "outputId": "93f79d76-d9fa-46db-e53d-a4ed68ab4391"
      },
      "execution_count": null,
      "outputs": [
        {
          "output_type": "stream",
          "name": "stdout",
          "text": [
            "YES\n"
          ]
        }
      ]
    },
    {
      "cell_type": "code",
      "source": [
        "string2 = \"aabbccc\"\n",
        "print(is_valid_string(string2)) "
      ],
      "metadata": {
        "colab": {
          "base_uri": "https://localhost:8080/"
        },
        "id": "JMPakkipXq5t",
        "outputId": "a59ebcb3-9fb2-47b4-a15f-10cc009bffe6"
      },
      "execution_count": null,
      "outputs": [
        {
          "output_type": "stream",
          "name": "stdout",
          "text": [
            "NO\n"
          ]
        }
      ]
    },
    {
      "cell_type": "markdown",
      "source": [
        "\n",
        "\n",
        "---\n",
        "\n"
      ],
      "metadata": {
        "id": "5bnpJjH1X866"
      }
    },
    {
      "cell_type": "markdown",
      "source": [
        "**Question 3 :-**\n",
        "\n",
        "Write a program, which would download the data from the provided link, and then read the data and convert\n",
        "that into properly structured data and return it in Excel format.\n",
        "\n",
        "**Note** - Write comments wherever necessary explaining the code written.\n",
        "\n",
        "**Link** - https://raw.githubusercontent.com/Biuni/PokemonGO-Pokedex/master/pokedex.json\n",
        "\n",
        "**Data Attributes** - id: Identification Number - int num: Number of the\n",
        "\n",
        "● Pokémon in the official Pokédex - int name: Pokémon name -\n",
        "\n",
        "● string img: URL to an image of this Pokémon - string type:\n",
        "\n",
        "● Pokémon type -string height: Pokémon height - float\n",
        "\n",
        "● weight: Pokémon weight - float candy: type of candy used to evolve Pokémon or\n",
        "given\n",
        "\n",
        "● when transferred - string candy_count: the amount of candies required to evolve\n",
        "-int\n",
        "\n",
        "● egg: Number of kilometers to travel to hatch the egg - float spawn_chance:\n",
        "\n",
        "● Percentage of spawn chance (NEW) - float avg_spawns: Number of this\n",
        "pokemon on 10.000 spawns (NEW) - int\n",
        "\n",
        "● spawn_time: Spawns most active at the time on this field. Spawn times are the same for all\n",
        "time zones and are expressed in local time. (NEW) - “minutes: seconds” multipliers:\n",
        "Multiplier of Combat Power (CP) for calculating the CP after evolution See below - list of int\n",
        "weakness: Types of\n",
        "\n",
        "● Pokémon this Pokémon is weak to - list of strings next_evolution: Number and Name of\n",
        "successive evolutions of Pokémon - list of dict prev_evolution: Number and Name of previous\n",
        "evolutions of Pokémon - - list of dict\n",
        "\n"
      ],
      "metadata": {
        "id": "_2ipJ184X-Yq"
      }
    },
    {
      "cell_type": "markdown",
      "source": [
        "**Answer 3 :-**"
      ],
      "metadata": {
        "id": "gstIQAozsLgd"
      }
    },
    {
      "cell_type": "code",
      "source": [
        "import pandas as pd\n",
        "import requests\n",
        "\n",
        "# Download data from the provided link\n",
        "url = \"https://raw.githubusercontent.com/Biuni/PokemonGO-Pokedex/master/pokedex.json\"\n",
        "data = requests.get(url).json()\n",
        "\n",
        "# Create a DataFrame directly from the extracted data\n",
        "df = pd.DataFrame(data[\"pokemon\"])\n",
        "\n",
        "# Save the DataFrame as an Excel file\n",
        "output_filename = \"pokemon_data.xlsx\"\n",
        "df.to_excel(output_filename, index=False)\n",
        "\n",
        "print(\"Data successfully exported to\", output_filename)"
      ],
      "metadata": {
        "colab": {
          "base_uri": "https://localhost:8080/"
        },
        "id": "wFZP7qgDsLLe",
        "outputId": "7e3084b6-bcb5-4dc9-eb4a-cba66949674c"
      },
      "execution_count": null,
      "outputs": [
        {
          "output_type": "stream",
          "name": "stdout",
          "text": [
            "Data successfully exported to pokemon_data.xlsx\n"
          ]
        }
      ]
    },
    {
      "cell_type": "markdown",
      "source": [
        "\n",
        "\n",
        "---\n",
        "\n"
      ],
      "metadata": {
        "id": "IxDtbMHUvnPu"
      }
    },
    {
      "cell_type": "markdown",
      "source": [
        "**Question 4 :-**\n",
        "\n",
        "Write a program to download the data from the link given below and then read the data and convert the into the proper structure and return it as a CSV file.\n",
        "\n",
        "**Link** - https://data.nasa.gov/resource/y77d-th95.json\n",
        "\n",
        "**Note** - Write code comments wherever needed for code understanding\n",
        "\n",
        "**Excepted Output Data Attributes** -\n",
        "\n",
        "● Name of Earth Meteorite - string id - ID of Earth\n",
        "\n",
        "● Meteorite - int nametype - string recclass - string\n",
        "\n",
        "● mass - Mass of Earth Meteorite - float year - Year at which Earth\n",
        "\n",
        "● Meteorite was hit - datetime format reclat - float recclong - float\n",
        "\n",
        "● point coordinates - list of int\n",
        "\n"
      ],
      "metadata": {
        "id": "OOmTDV0xvn29"
      }
    },
    {
      "cell_type": "markdown",
      "source": [
        "**Answer 4** :-"
      ],
      "metadata": {
        "id": "vRcCjHWbzVIU"
      }
    },
    {
      "cell_type": "code",
      "source": [
        "import pandas as pd\n",
        "import requests\n",
        "\n",
        "# Download data from the provided link\n",
        "url = \"https://data.nasa.gov/resource/y77d-th95.json\"\n",
        "data = requests.get(url).json()\n",
        "\n",
        "# Create a DataFrame directly from the extracted data\n",
        "df = pd.DataFrame(data)[[\"name\", \"id\", \"nametype\", \"recclass\", \"mass\", \"year\", \"reclat\", \"reclong\"]]\n",
        "\n",
        "# Save the DataFrame as a CSV file\n",
        "output_filename = \"meteorite_data.csv\"\n",
        "df.to_csv(output_filename, index=False)\n",
        "\n",
        "print(\"Data successfully exported to\", output_filename)\n"
      ],
      "metadata": {
        "id": "48Smn2C4X7A3",
        "colab": {
          "base_uri": "https://localhost:8080/"
        },
        "outputId": "a2f20306-afc1-41e8-bcd1-91489f8c81ae"
      },
      "execution_count": null,
      "outputs": [
        {
          "output_type": "stream",
          "name": "stdout",
          "text": [
            "Data successfully exported to meteorite_data.csv\n"
          ]
        }
      ]
    },
    {
      "cell_type": "markdown",
      "source": [
        "\n",
        "\n",
        "---\n",
        "\n"
      ],
      "metadata": {
        "id": "FZrLPurz1Wo8"
      }
    },
    {
      "cell_type": "markdown",
      "source": [
        "**Question 5 :-**\n",
        "\n",
        "Write a program to download the data from the given API link and then extract the following data with proper formatting\n",
        "\n",
        "**Link** - http://api.tvmaze.com/singlesearch/shows?q=westworld&embed=episodes\n",
        "\n",
        "**Note**- Write proper code comments wherever needed for the code understanding\n",
        "\n",
        "**Excepted Output Data Attributes** -\n",
        "\n",
        "● id - int url - string\n",
        "\n",
        "● name - string season\n",
        "\n",
        "● - int number - int\n",
        "\n",
        "● type - string airdate -\n",
        "\n",
        "● date format airtime -\n",
        "\n",
        "● 12-hour time format\n",
        "\n",
        "● runtime - float\n",
        "\n",
        "● average rating - float\n",
        "\n",
        "● summary - string\n",
        "\n",
        "● without html tags\n",
        "\n",
        "● medium image link - string\n",
        "\n",
        "● Original image link - string"
      ],
      "metadata": {
        "id": "bSWG3Dxc1Xfk"
      }
    },
    {
      "cell_type": "markdown",
      "source": [
        "**Answer 5 :-** "
      ],
      "metadata": {
        "id": "D5Pbv5gI8IKD"
      }
    },
    {
      "cell_type": "code",
      "source": [
        "def fatch_data_from_url(link):\n",
        "    # Download the data from the provided link\n",
        "    response = requests.get(link)\n",
        "    #use request to pull from url\n",
        "    data = response.json()\n",
        "    return data\n",
        "data = fatch_data_from_url(\"http://api.tvmaze.com/singlesearch/shows?q=westworld&embed=episodes\")\n",
        "\n",
        "print(data)"
      ],
      "metadata": {
        "colab": {
          "base_uri": "https://localhost:8080/"
        },
        "id": "qAiG2KTl1AzE",
        "outputId": "1d11d350-433e-4f7e-c97b-a5906fb43667"
      },
      "execution_count": null,
      "outputs": [
        {
          "output_type": "stream",
          "name": "stdout",
          "text": [
            "{'id': 1371, 'url': 'https://www.tvmaze.com/shows/1371/westworld', 'name': 'Westworld', 'type': 'Scripted', 'language': 'English', 'genres': ['Drama', 'Science-Fiction', 'Western'], 'status': 'Ended', 'runtime': 60, 'averageRuntime': 63, 'premiered': '2016-10-02', 'ended': '2022-08-14', 'officialSite': 'http://www.hbo.com/westworld', 'schedule': {'time': '21:00', 'days': ['Sunday']}, 'rating': {'average': 8.2}, 'weight': 99, 'network': {'id': 8, 'name': 'HBO', 'country': {'name': 'United States', 'code': 'US', 'timezone': 'America/New_York'}, 'officialSite': 'https://www.hbo.com/'}, 'webChannel': None, 'dvdCountry': None, 'externals': {'tvrage': 37537, 'thetvdb': 296762, 'imdb': 'tt0475784'}, 'image': {'medium': 'https://static.tvmaze.com/uploads/images/medium_portrait/445/1113927.jpg', 'original': 'https://static.tvmaze.com/uploads/images/original_untouched/445/1113927.jpg'}, 'summary': '<p><b>Westworld</b> is a dark odyssey about the dawn of artificial consciousness and the evolution of sin. Set at the intersection of the near future and the reimagined past, it explores a world in which every human appetite, no matter how noble or depraved, can be indulged.</p>', 'updated': 1675592943, '_links': {'self': {'href': 'https://api.tvmaze.com/shows/1371'}, 'previousepisode': {'href': 'https://api.tvmaze.com/episodes/2326661'}}, '_embedded': {'episodes': [{'id': 869671, 'url': 'https://www.tvmaze.com/episodes/869671/westworld-1x01-the-original', 'name': 'The Original', 'season': 1, 'number': 1, 'type': 'regular', 'airdate': '2016-10-02', 'airtime': '21:00', 'airstamp': '2016-10-03T01:00:00+00:00', 'runtime': 68, 'rating': {'average': 8}, 'image': {'medium': 'https://static.tvmaze.com/uploads/images/medium_landscape/78/195475.jpg', 'original': 'https://static.tvmaze.com/uploads/images/original_untouched/78/195475.jpg'}, 'summary': \"<p>A woman named Dolores is a free spirit in the Old West... and unaware that she's actually an android, programmed to entertain rich guests seeking to act out their fantasies in an idealized vision of the 1880s. However, the people in charge soon realize that their androids are acting in ways that they didn't anticipate.</p>\", '_links': {'self': {'href': 'https://api.tvmaze.com/episodes/869671'}, 'show': {'href': 'https://api.tvmaze.com/shows/1371'}}}, {'id': 911201, 'url': 'https://www.tvmaze.com/episodes/911201/westworld-1x02-chestnut', 'name': 'Chestnut', 'season': 1, 'number': 2, 'type': 'regular', 'airdate': '2016-10-09', 'airtime': '21:00', 'airstamp': '2016-10-10T01:00:00+00:00', 'runtime': 60, 'rating': {'average': 7.7}, 'image': {'medium': 'https://static.tvmaze.com/uploads/images/medium_landscape/78/195436.jpg', 'original': 'https://static.tvmaze.com/uploads/images/original_untouched/78/195436.jpg'}, 'summary': '<p>Bernard suspects that someone is sabotaging the hosts. Meanwhile, the Man continues his search for the deeper game, and Maeve finds herself in a world of hurt... literally.</p>', '_links': {'self': {'href': 'https://api.tvmaze.com/episodes/911201'}, 'show': {'href': 'https://api.tvmaze.com/shows/1371'}}}, {'id': 911204, 'url': 'https://www.tvmaze.com/episodes/911204/westworld-1x03-the-stray', 'name': 'The Stray', 'season': 1, 'number': 3, 'type': 'regular', 'airdate': '2016-10-16', 'airtime': '21:00', 'airstamp': '2016-10-17T01:00:00+00:00', 'runtime': 60, 'rating': {'average': 7.6}, 'image': {'medium': 'https://static.tvmaze.com/uploads/images/medium_landscape/79/198183.jpg', 'original': 'https://static.tvmaze.com/uploads/images/original_untouched/79/198183.jpg'}, 'summary': \"<p>Bernard continues to investigate Dolores' supposed malfunction, and realizes that he has something unexpected on his hands. Meanwhile, Robert talks about the early days of the park, and Teddy receives a new role and narrative.</p>\", '_links': {'self': {'href': 'https://api.tvmaze.com/episodes/911204'}, 'show': {'href': 'https://api.tvmaze.com/shows/1371'}}}, {'id': 911205, 'url': 'https://www.tvmaze.com/episodes/911205/westworld-1x04-dissonance-theory', 'name': 'Dissonance Theory', 'season': 1, 'number': 4, 'type': 'regular', 'airdate': '2016-10-23', 'airtime': '21:00', 'airstamp': '2016-10-24T01:00:00+00:00', 'runtime': 60, 'rating': {'average': 7.9}, 'image': {'medium': 'https://static.tvmaze.com/uploads/images/medium_landscape/80/201367.jpg', 'original': 'https://static.tvmaze.com/uploads/images/original_untouched/80/201367.jpg'}, 'summary': '<p>While Dolores joins William and Logan on their adventure, the Man in Black continues his search for the entrance to the Maze and meets Armistice. Meanwhile, Robert reveals some of his true power to Theresa and advises her to stay out of his way.</p>', '_links': {'self': {'href': 'https://api.tvmaze.com/episodes/911205'}, 'show': {'href': 'https://api.tvmaze.com/shows/1371'}}}, {'id': 927174, 'url': 'https://www.tvmaze.com/episodes/927174/westworld-1x05-contrapasso', 'name': 'Contrapasso', 'season': 1, 'number': 5, 'type': 'regular', 'airdate': '2016-10-30', 'airtime': '21:00', 'airstamp': '2016-10-31T01:00:00+00:00', 'runtime': 60, 'rating': {'average': 8}, 'image': {'medium': 'https://static.tvmaze.com/uploads/images/medium_landscape/81/204265.jpg', 'original': 'https://static.tvmaze.com/uploads/images/original_untouched/81/204265.jpg'}, 'summary': \"<p>Dolores takes the first step on her path of discovery by deciding to write a new story for herself... where she isn't the damsel. Meanwhile, Elise discovers the Woodcutter's secret, and Robert pays the Man a visit.</p>\", '_links': {'self': {'href': 'https://api.tvmaze.com/episodes/927174'}, 'show': {'href': 'https://api.tvmaze.com/shows/1371'}}}, {'id': 932057, 'url': 'https://www.tvmaze.com/episodes/932057/westworld-1x06-the-adversary', 'name': 'The Adversary', 'season': 1, 'number': 6, 'type': 'regular', 'airdate': '2016-11-06', 'airtime': '21:00', 'airstamp': '2016-11-07T02:00:00+00:00', 'runtime': 60, 'rating': {'average': 8}, 'image': {'medium': 'https://static.tvmaze.com/uploads/images/medium_landscape/82/207324.jpg', 'original': 'https://static.tvmaze.com/uploads/images/original_untouched/82/207324.jpg'}, 'summary': '<p>While Maeve convinces Felix to show her \"upstairs,\" Teddy and the Man close in on the maze. Meanwhile, Bernard and Elsie close in on the identity of the person who is stealing secrets from the park, while Lee meets with a Delos executive director.</p>', '_links': {'self': {'href': 'https://api.tvmaze.com/episodes/932057'}, 'show': {'href': 'https://api.tvmaze.com/shows/1371'}}}, {'id': 938404, 'url': 'https://www.tvmaze.com/episodes/938404/westworld-1x07-trompe-loeil', 'name': \"Trompe L'Oeil\", 'season': 1, 'number': 7, 'type': 'regular', 'airdate': '2016-11-13', 'airtime': '21:00', 'airstamp': '2016-11-14T02:00:00+00:00', 'runtime': 60, 'rating': {'average': 8.6}, 'image': {'medium': 'https://static.tvmaze.com/uploads/images/medium_landscape/83/209400.jpg', 'original': 'https://static.tvmaze.com/uploads/images/original_untouched/83/209400.jpg'}, 'summary': '<p>While William and Dolores travel to the unclaimed territories, Charlotte and Theresa make plans to force Robert out of the park using Clementine. Meanwhile, Maeve continues her plans to escape Westworld.</p>', '_links': {'self': {'href': 'https://api.tvmaze.com/episodes/938404'}, 'show': {'href': 'https://api.tvmaze.com/shows/1371'}}}, {'id': 943065, 'url': 'https://www.tvmaze.com/episodes/943065/westworld-1x08-trace-decay', 'name': 'Trace Decay', 'season': 1, 'number': 8, 'type': 'regular', 'airdate': '2016-11-20', 'airtime': '21:00', 'airstamp': '2016-11-21T02:00:00+00:00', 'runtime': 60, 'rating': {'average': 7.9}, 'image': {'medium': 'https://static.tvmaze.com/uploads/images/medium_landscape/84/211554.jpg', 'original': 'https://static.tvmaze.com/uploads/images/original_untouched/84/211554.jpg'}, 'summary': \"<p>Bernard tries to cope with what he did under Robert's orders. Meanwhile, William and Dolores find a town, and Maeve remembers more of her past. Meanwhile, the Man reveals his past to Teddy.</p>\", '_links': {'self': {'href': 'https://api.tvmaze.com/episodes/943065'}, 'show': {'href': 'https://api.tvmaze.com/shows/1371'}}}, {'id': 943066, 'url': 'https://www.tvmaze.com/episodes/943066/westworld-1x09-the-well-tempered-clavier', 'name': 'The Well-Tempered Clavier', 'season': 1, 'number': 9, 'type': 'regular', 'airdate': '2016-11-27', 'airtime': '21:00', 'airstamp': '2016-11-28T02:00:00+00:00', 'runtime': 60, 'rating': {'average': 8.5}, 'image': {'medium': 'https://static.tvmaze.com/uploads/images/medium_landscape/85/213932.jpg', 'original': 'https://static.tvmaze.com/uploads/images/original_untouched/85/213932.jpg'}, 'summary': '<p>Bernard forces Robert to take him back into his own memories, while the Man meets with Charlotte. Meanwhile, Dolores escapes the Confederado camp and William gives Logan new orders.</p>', '_links': {'self': {'href': 'https://api.tvmaze.com/episodes/943066'}, 'show': {'href': 'https://api.tvmaze.com/shows/1371'}}}, {'id': 943067, 'url': 'https://www.tvmaze.com/episodes/943067/westworld-1x10-the-bicameral-mind', 'name': 'The Bicameral Mind', 'season': 1, 'number': 10, 'type': 'regular', 'airdate': '2016-12-04', 'airtime': '21:00', 'airstamp': '2016-12-05T02:00:00+00:00', 'runtime': 90, 'rating': {'average': 8.7}, 'image': {'medium': 'https://static.tvmaze.com/uploads/images/medium_landscape/86/216453.jpg', 'original': 'https://static.tvmaze.com/uploads/images/original_untouched/86/216453.jpg'}, 'summary': \"<p>Delores finds out the truth about William's fate. Meanwhile, Maeve organizes an escape plan, only to discover that someone else is pulling the strings. And Robert plays the final piece in his grand narrative.</p>\", '_links': {'self': {'href': 'https://api.tvmaze.com/episodes/943067'}, 'show': {'href': 'https://api.tvmaze.com/shows/1371'}}}, {'id': 1214222, 'url': 'https://www.tvmaze.com/episodes/1214222/westworld-2x01-journey-into-night', 'name': 'Journey Into Night', 'season': 2, 'number': 1, 'type': 'regular', 'airdate': '2018-04-22', 'airtime': '21:00', 'airstamp': '2018-04-23T01:00:00+00:00', 'runtime': 74, 'rating': {'average': 7.8}, 'image': {'medium': 'https://static.tvmaze.com/uploads/images/medium_landscape/152/381118.jpg', 'original': 'https://static.tvmaze.com/uploads/images/original_untouched/152/381118.jpg'}, 'summary': '<p>In the aftermath of the host rebellion, the rescue team finds Bernard and the new Head of Operations asks for his help. Meanwhile, Delores promises to show Teddy the truth, and Maeve convinces Lee and Hector to help her find her daughter.</p>', '_links': {'self': {'href': 'https://api.tvmaze.com/episodes/1214222'}, 'show': {'href': 'https://api.tvmaze.com/shows/1371'}}}, {'id': 1440915, 'url': 'https://www.tvmaze.com/episodes/1440915/westworld-2x02-reunion', 'name': 'Reunion', 'season': 2, 'number': 2, 'type': 'regular', 'airdate': '2018-04-29', 'airtime': '21:00', 'airstamp': '2018-04-30T01:00:00+00:00', 'runtime': 60, 'rating': {'average': 7.7}, 'image': {'medium': 'https://static.tvmaze.com/uploads/images/medium_landscape/153/382957.jpg', 'original': 'https://static.tvmaze.com/uploads/images/original_untouched/153/382957.jpg'}, 'summary': '<p>Dolores looks for allies sympathetic to her cause and shows Teddy the truth of his existence. In the past, Dolores gets her first taste of the outside world and William shows her a weapon of mass destruction.</p>', '_links': {'self': {'href': 'https://api.tvmaze.com/episodes/1440915'}, 'show': {'href': 'https://api.tvmaze.com/shows/1371'}}}, {'id': 1440916, 'url': 'https://www.tvmaze.com/episodes/1440916/westworld-2x03-virtu-e-fortuna', 'name': 'Virtù e Fortuna', 'season': 2, 'number': 3, 'type': 'regular', 'airdate': '2018-05-06', 'airtime': '21:00', 'airstamp': '2018-05-07T01:00:00+00:00', 'runtime': 60, 'rating': {'average': 7.7}, 'image': {'medium': 'https://static.tvmaze.com/uploads/images/medium_landscape/154/386069.jpg', 'original': 'https://static.tvmaze.com/uploads/images/original_untouched/154/386069.jpg'}, 'summary': '<p>While Delores makes a deal with the Confederados, Maeve and her group find Felix and Sylvester. Meanwhile, a new Guest comes to Westworld, and Bernard has a meeting of minds with Peter.</p>', '_links': {'self': {'href': 'https://api.tvmaze.com/episodes/1440916'}, 'show': {'href': 'https://api.tvmaze.com/shows/1371'}}}, {'id': 1440917, 'url': 'https://www.tvmaze.com/episodes/1440917/westworld-2x04-the-riddle-of-the-sphinx', 'name': 'The Riddle of the Sphinx', 'season': 2, 'number': 4, 'type': 'regular', 'airdate': '2018-05-13', 'airtime': '21:00', 'airstamp': '2018-05-14T01:00:00+00:00', 'runtime': 71, 'rating': {'average': 8}, 'image': {'medium': 'https://static.tvmaze.com/uploads/images/medium_landscape/155/387630.jpg', 'original': 'https://static.tvmaze.com/uploads/images/original_untouched/155/387630.jpg'}, 'summary': \"<p>William pays his recuperating father-in-law several visits. Meanwhile, the Man continues to play Robert's game, and Bernard remembers some of his missing time.</p>\", '_links': {'self': {'href': 'https://api.tvmaze.com/episodes/1440917'}, 'show': {'href': 'https://api.tvmaze.com/shows/1371'}}}, {'id': 1446362, 'url': 'https://www.tvmaze.com/episodes/1446362/westworld-2x05-akane-no-mai', 'name': 'Akane No Mai', 'season': 2, 'number': 5, 'type': 'regular', 'airdate': '2018-05-20', 'airtime': '21:00', 'airstamp': '2018-05-21T01:00:00+00:00', 'runtime': 60, 'rating': {'average': 7.6}, 'image': {'medium': 'https://static.tvmaze.com/uploads/images/medium_landscape/155/389365.jpg', 'original': 'https://static.tvmaze.com/uploads/images/original_untouched/155/389365.jpg'}, 'summary': \"<p>While Maeve and her people explore Shogun World, Delores realizes that the Teddy she knows can't be a part of the new world coming.</p>\", '_links': {'self': {'href': 'https://api.tvmaze.com/episodes/1446362'}, 'show': {'href': 'https://api.tvmaze.com/shows/1371'}}}, {'id': 1453278, 'url': 'https://www.tvmaze.com/episodes/1453278/westworld-2x06-phase-space', 'name': 'Phase Space', 'season': 2, 'number': 6, 'type': 'regular', 'airdate': '2018-05-27', 'airtime': '21:00', 'airstamp': '2018-05-28T01:00:00+00:00', 'runtime': 60, 'rating': {'average': 7.7}, 'image': {'medium': 'https://static.tvmaze.com/uploads/images/medium_landscape/156/390990.jpg', 'original': 'https://static.tvmaze.com/uploads/images/original_untouched/156/390990.jpg'}, 'summary': '<p>Maeve finds her daughter, Delores finds the \"real\" Teddy, Grace finds her father, and Charlotte and Stubbs find Peter.</p>', '_links': {'self': {'href': 'https://api.tvmaze.com/episodes/1453278'}, 'show': {'href': 'https://api.tvmaze.com/shows/1371'}}}, {'id': 1459961, 'url': 'https://www.tvmaze.com/episodes/1459961/westworld-2x07-les-ecorches', 'name': 'Les Écorchés', 'season': 2, 'number': 7, 'type': 'regular', 'airdate': '2018-06-03', 'airtime': '21:00', 'airstamp': '2018-06-04T01:00:00+00:00', 'runtime': 60, 'rating': {'average': 7.9}, 'image': {'medium': 'https://static.tvmaze.com/uploads/images/medium_landscape/156/392143.jpg', 'original': 'https://static.tvmaze.com/uploads/images/original_untouched/156/392143.jpg'}, 'summary': \"<p>Charlotte and Bernard review Bernard's memories to discover what happened to the missing control unit. Meanwhile, Robert has a chat with Bernard, and Maeve confronts her former tormentor.</p>\", '_links': {'self': {'href': 'https://api.tvmaze.com/episodes/1459961'}, 'show': {'href': 'https://api.tvmaze.com/shows/1371'}}}, {'id': 1459788, 'url': 'https://www.tvmaze.com/episodes/1459788/westworld-2x08-kiksuya', 'name': 'Kiksuya', 'season': 2, 'number': 8, 'type': 'regular', 'airdate': '2018-06-10', 'airtime': '21:00', 'airstamp': '2018-06-11T01:00:00+00:00', 'runtime': 60, 'rating': {'average': 8.7}, 'image': {'medium': 'https://static.tvmaze.com/uploads/images/medium_landscape/157/393811.jpg', 'original': 'https://static.tvmaze.com/uploads/images/original_untouched/157/393811.jpg'}, 'summary': \"<p>Another of Westworld's Host revolutionaries is revealed. Meanwhile, Emily finds the Man and convinces the Ghost Nation to hand him over to her to ensure his suffering.</p>\", '_links': {'self': {'href': 'https://api.tvmaze.com/episodes/1459788'}, 'show': {'href': 'https://api.tvmaze.com/shows/1371'}}}, {'id': 1459789, 'url': 'https://www.tvmaze.com/episodes/1459789/westworld-2x09-vanishing-point', 'name': 'Vanishing Point', 'season': 2, 'number': 9, 'type': 'regular', 'airdate': '2018-06-17', 'airtime': '21:00', 'airstamp': '2018-06-18T01:00:00+00:00', 'runtime': 60, 'rating': {'average': 8.4}, 'image': {'medium': 'https://static.tvmaze.com/uploads/images/medium_landscape/158/395754.jpg', 'original': 'https://static.tvmaze.com/uploads/images/original_untouched/158/395754.jpg'}, 'summary': \"<p>The Man learns that his grip on reality isn't what he thought, as he considers how his wife died. Meanwhile, Dolores continues her trek across the park to the Valley Beyond, and Bernard receives another visit from Robert.</p>\", '_links': {'self': {'href': 'https://api.tvmaze.com/episodes/1459789'}, 'show': {'href': 'https://api.tvmaze.com/shows/1371'}}}, {'id': 1459790, 'url': 'https://www.tvmaze.com/episodes/1459790/westworld-2x10-the-passenger', 'name': 'The Passenger', 'season': 2, 'number': 10, 'type': 'regular', 'airdate': '2018-06-24', 'airtime': '21:00', 'airstamp': '2018-06-25T01:00:00+00:00', 'runtime': 90, 'rating': {'average': 8.5}, 'image': {'medium': 'https://static.tvmaze.com/uploads/images/medium_landscape/158/397018.jpg', 'original': 'https://static.tvmaze.com/uploads/images/original_untouched/158/397018.jpg'}, 'summary': '<p>The Man faces a personal reckoning, while Akecheta and the others find the door. Meanwhile, Bernard meets with Robert one last time after choosing how to deal with Dolores.</p>', '_links': {'self': {'href': 'https://api.tvmaze.com/episodes/1459790'}, 'show': {'href': 'https://api.tvmaze.com/shows/1371'}}}, {'id': 1789333, 'url': 'https://www.tvmaze.com/episodes/1789333/westworld-3x01-parce-domine', 'name': 'Parce Domine', 'season': 3, 'number': 1, 'type': 'regular', 'airdate': '2020-03-15', 'airtime': '21:00', 'airstamp': '2020-03-16T01:00:00+00:00', 'runtime': 70, 'rating': {'average': 8}, 'image': {'medium': 'https://static.tvmaze.com/uploads/images/medium_landscape/246/615760.jpg', 'original': 'https://static.tvmaze.com/uploads/images/original_untouched/246/615760.jpg'}, 'summary': \"<p>If you're stuck in a loop, try walking in a straight line.</p>\", '_links': {'self': {'href': 'https://api.tvmaze.com/episodes/1789333'}, 'show': {'href': 'https://api.tvmaze.com/shows/1371'}}}, {'id': 1800146, 'url': 'https://www.tvmaze.com/episodes/1800146/westworld-3x02-the-winter-line', 'name': 'The Winter Line', 'season': 3, 'number': 2, 'type': 'regular', 'airdate': '2020-03-22', 'airtime': '21:00', 'airstamp': '2020-03-23T01:00:00+00:00', 'runtime': 60, 'rating': {'average': 7.8}, 'image': {'medium': 'https://static.tvmaze.com/uploads/images/medium_landscape/247/619379.jpg', 'original': 'https://static.tvmaze.com/uploads/images/original_untouched/247/619379.jpg'}, 'summary': '<p>People put up a lot of walls. Bring a sledgehammer to your life.</p>', '_links': {'self': {'href': 'https://api.tvmaze.com/episodes/1800146'}, 'show': {'href': 'https://api.tvmaze.com/shows/1371'}}}, {'id': 1800147, 'url': 'https://www.tvmaze.com/episodes/1800147/westworld-3x03-the-absence-of-field', 'name': 'The Absence of Field', 'season': 3, 'number': 3, 'type': 'regular', 'airdate': '2020-03-29', 'airtime': '21:00', 'airstamp': '2020-03-30T01:00:00+00:00', 'runtime': 60, 'rating': {'average': 7.8}, 'image': {'medium': 'https://static.tvmaze.com/uploads/images/medium_landscape/247/619381.jpg', 'original': 'https://static.tvmaze.com/uploads/images/original_untouched/247/619381.jpg'}, 'summary': \"<p>If you don't like what you see in the mirror, don't blame the mirror.</p>\", '_links': {'self': {'href': 'https://api.tvmaze.com/episodes/1800147'}, 'show': {'href': 'https://api.tvmaze.com/shows/1371'}}}, {'id': 1800148, 'url': 'https://www.tvmaze.com/episodes/1800148/westworld-3x04-the-mother-of-exiles', 'name': 'The Mother of Exiles', 'season': 3, 'number': 4, 'type': 'regular', 'airdate': '2020-04-05', 'airtime': '21:00', 'airstamp': '2020-04-06T01:00:00+00:00', 'runtime': 70, 'rating': {'average': 8}, 'image': {'medium': 'https://static.tvmaze.com/uploads/images/medium_landscape/249/623071.jpg', 'original': 'https://static.tvmaze.com/uploads/images/original_untouched/249/623071.jpg'}, 'summary': \"<p>The truth doesn't always set you free.</p>\", '_links': {'self': {'href': 'https://api.tvmaze.com/episodes/1800148'}, 'show': {'href': 'https://api.tvmaze.com/shows/1371'}}}, {'id': 1800149, 'url': 'https://www.tvmaze.com/episodes/1800149/westworld-3x05-genre', 'name': 'Genre', 'season': 3, 'number': 5, 'type': 'regular', 'airdate': '2020-04-12', 'airtime': '21:00', 'airstamp': '2020-04-13T01:00:00+00:00', 'runtime': 60, 'rating': {'average': 7.9}, 'image': {'medium': 'https://static.tvmaze.com/uploads/images/medium_landscape/251/629355.jpg', 'original': 'https://static.tvmaze.com/uploads/images/original_untouched/251/629355.jpg'}, 'summary': '<p>Just say no.</p>', '_links': {'self': {'href': 'https://api.tvmaze.com/episodes/1800149'}, 'show': {'href': 'https://api.tvmaze.com/shows/1371'}}}, {'id': 1829375, 'url': 'https://www.tvmaze.com/episodes/1829375/westworld-3x06-decoherence', 'name': 'Decoherence', 'season': 3, 'number': 6, 'type': 'regular', 'airdate': '2020-04-19', 'airtime': '21:00', 'airstamp': '2020-04-20T01:00:00+00:00', 'runtime': 60, 'rating': {'average': 7.5}, 'image': {'medium': 'https://static.tvmaze.com/uploads/images/medium_landscape/252/632212.jpg', 'original': 'https://static.tvmaze.com/uploads/images/original_untouched/252/632212.jpg'}, 'summary': '<p>Do a lot of people tell you that you need therapy?</p>', '_links': {'self': {'href': 'https://api.tvmaze.com/episodes/1829375'}, 'show': {'href': 'https://api.tvmaze.com/shows/1371'}}}, {'id': 1800151, 'url': 'https://www.tvmaze.com/episodes/1800151/westworld-3x07-passed-pawn', 'name': 'Passed Pawn', 'season': 3, 'number': 7, 'type': 'regular', 'airdate': '2020-04-26', 'airtime': '21:00', 'airstamp': '2020-04-27T01:00:00+00:00', 'runtime': 60, 'rating': {'average': 7.5}, 'image': {'medium': 'https://static.tvmaze.com/uploads/images/medium_landscape/254/635599.jpg', 'original': 'https://static.tvmaze.com/uploads/images/original_untouched/254/635599.jpg'}, 'summary': \"<p>A real friend is one who walks in when the rest of the world walks out. Caleb gets an insight on the true nature of his past; Dolores seeks out Rehoboam's predecessor, while Maeve tracks her down; Bernard, Stubbs, and William escape from all the chaos.\\xa0</p>\", '_links': {'self': {'href': 'https://api.tvmaze.com/episodes/1800151'}, 'show': {'href': 'https://api.tvmaze.com/shows/1371'}}}, {'id': 1800152, 'url': 'https://www.tvmaze.com/episodes/1800152/westworld-3x08-crisis-theory', 'name': 'Crisis Theory', 'season': 3, 'number': 8, 'type': 'regular', 'airdate': '2020-05-03', 'airtime': '21:00', 'airstamp': '2020-05-04T01:00:00+00:00', 'runtime': 75, 'rating': {'average': 7.7}, 'image': {'medium': 'https://static.tvmaze.com/uploads/images/medium_landscape/254/635189.jpg', 'original': 'https://static.tvmaze.com/uploads/images/original_untouched/254/635189.jpg'}, 'summary': \"<p>Time to face the music. Dolores' true intentions are revealed; Bernard confronts a ghost from his past; Maeve is conflicted; Serac's voice is dominant; Caleb's role is revealed; and William faces an unexpected villain.\\xa0<br />\\xa0</p>\", '_links': {'self': {'href': 'https://api.tvmaze.com/episodes/1800152'}, 'show': {'href': 'https://api.tvmaze.com/shows/1371'}}}, {'id': 2326389, 'url': 'https://www.tvmaze.com/episodes/2326389/westworld-4x01-the-auguries', 'name': 'The Auguries', 'season': 4, 'number': 1, 'type': 'regular', 'airdate': '2022-06-26', 'airtime': '21:00', 'airstamp': '2022-06-27T01:00:00+00:00', 'runtime': 55, 'rating': {'average': 7.1}, 'image': {'medium': 'https://static.tvmaze.com/uploads/images/medium_landscape/414/1035413.jpg', 'original': 'https://static.tvmaze.com/uploads/images/original_untouched/414/1035413.jpg'}, 'summary': \"<p>Hello again. Don't worry about a thing. It's all in your head.</p>\", '_links': {'self': {'href': 'https://api.tvmaze.com/episodes/2326389'}, 'show': {'href': 'https://api.tvmaze.com/shows/1371'}}}, {'id': 2326655, 'url': 'https://www.tvmaze.com/episodes/2326655/westworld-4x02-well-enough-alone', 'name': 'Well Enough Alone', 'season': 4, 'number': 2, 'type': 'regular', 'airdate': '2022-07-03', 'airtime': '21:00', 'airstamp': '2022-07-04T01:00:00+00:00', 'runtime': 55, 'rating': {'average': 7.4}, 'image': {'medium': 'https://static.tvmaze.com/uploads/images/medium_landscape/414/1036909.jpg', 'original': 'https://static.tvmaze.com/uploads/images/original_untouched/414/1036909.jpg'}, 'summary': '<p>I heard a fly buzz when I died.</p>', '_links': {'self': {'href': 'https://api.tvmaze.com/episodes/2326655'}, 'show': {'href': 'https://api.tvmaze.com/shows/1371'}}}, {'id': 2326656, 'url': 'https://www.tvmaze.com/episodes/2326656/westworld-4x03-annees-folles', 'name': 'Années Folles', 'season': 4, 'number': 3, 'type': 'regular', 'airdate': '2022-07-10', 'airtime': '21:00', 'airstamp': '2022-07-11T01:00:00+00:00', 'runtime': 55, 'rating': {'average': 7.6}, 'image': {'medium': 'https://static.tvmaze.com/uploads/images/medium_landscape/415/1038520.jpg', 'original': 'https://static.tvmaze.com/uploads/images/original_untouched/415/1038520.jpg'}, 'summary': '<p>You can never go back again. But if you do, bring a shovel.</p>', '_links': {'self': {'href': 'https://api.tvmaze.com/episodes/2326656'}, 'show': {'href': 'https://api.tvmaze.com/shows/1371'}}}, {'id': 2326657, 'url': 'https://www.tvmaze.com/episodes/2326657/westworld-4x04-generation-loss', 'name': 'Generation Loss', 'season': 4, 'number': 4, 'type': 'regular', 'airdate': '2022-07-17', 'airtime': '21:00', 'airstamp': '2022-07-18T01:00:00+00:00', 'runtime': 51, 'rating': {'average': 7.7}, 'image': {'medium': 'https://static.tvmaze.com/uploads/images/medium_landscape/415/1039531.jpg', 'original': 'https://static.tvmaze.com/uploads/images/original_untouched/415/1039531.jpg'}, 'summary': '<p>Should auld acquaintance be forgot and days of auld lang syne?</p>', '_links': {'self': {'href': 'https://api.tvmaze.com/episodes/2326657'}, 'show': {'href': 'https://api.tvmaze.com/shows/1371'}}}, {'id': 2326658, 'url': 'https://www.tvmaze.com/episodes/2326658/westworld-4x05-zhuangzi', 'name': 'Zhuangzi', 'season': 4, 'number': 5, 'type': 'regular', 'airdate': '2022-07-24', 'airtime': '21:00', 'airstamp': '2022-07-25T01:00:00+00:00', 'runtime': 60, 'rating': {'average': 7.8}, 'image': {'medium': 'https://static.tvmaze.com/uploads/images/medium_landscape/416/1042460.jpg', 'original': 'https://static.tvmaze.com/uploads/images/original_untouched/416/1042460.jpg'}, 'summary': '<p>God is bored.</p>', '_links': {'self': {'href': 'https://api.tvmaze.com/episodes/2326658'}, 'show': {'href': 'https://api.tvmaze.com/shows/1371'}}}, {'id': 2326659, 'url': 'https://www.tvmaze.com/episodes/2326659/westworld-4x06-fidelity', 'name': 'Fidelity', 'season': 4, 'number': 6, 'type': 'regular', 'airdate': '2022-07-31', 'airtime': '21:00', 'airstamp': '2022-08-01T01:00:00+00:00', 'runtime': 60, 'rating': {'average': 7.5}, 'image': {'medium': 'https://static.tvmaze.com/uploads/images/medium_landscape/417/1044302.jpg', 'original': 'https://static.tvmaze.com/uploads/images/original_untouched/417/1044302.jpg'}, 'summary': '<p>To thine own selves be true.</p>', '_links': {'self': {'href': 'https://api.tvmaze.com/episodes/2326659'}, 'show': {'href': 'https://api.tvmaze.com/shows/1371'}}}, {'id': 2326660, 'url': 'https://www.tvmaze.com/episodes/2326660/westworld-4x07-metanoia', 'name': 'Metanoia', 'season': 4, 'number': 7, 'type': 'regular', 'airdate': '2022-08-07', 'airtime': '21:00', 'airstamp': '2022-08-08T01:00:00+00:00', 'runtime': 60, 'rating': {'average': 7.7}, 'image': {'medium': 'https://static.tvmaze.com/uploads/images/medium_landscape/418/1045645.jpg', 'original': 'https://static.tvmaze.com/uploads/images/original_untouched/418/1045645.jpg'}, 'summary': '<p>You want to have a drink at a time like this?</p>', '_links': {'self': {'href': 'https://api.tvmaze.com/episodes/2326660'}, 'show': {'href': 'https://api.tvmaze.com/shows/1371'}}}, {'id': 2326661, 'url': 'https://www.tvmaze.com/episodes/2326661/westworld-4x08-que-sera-sera', 'name': 'Que Será, Será', 'season': 4, 'number': 8, 'type': 'regular', 'airdate': '2022-08-14', 'airtime': '21:00', 'airstamp': '2022-08-15T01:00:00+00:00', 'runtime': 60, 'rating': {'average': 7.5}, 'image': {'medium': 'https://static.tvmaze.com/uploads/images/medium_landscape/418/1046925.jpg', 'original': 'https://static.tvmaze.com/uploads/images/original_untouched/418/1046925.jpg'}, 'summary': \"<p>Like what I've done with the place? (I just cranked it to expert level.)</p>\", '_links': {'self': {'href': 'https://api.tvmaze.com/episodes/2326661'}, 'show': {'href': 'https://api.tvmaze.com/shows/1371'}}}]}}\n"
          ]
        }
      ]
    },
    {
      "cell_type": "markdown",
      "source": [
        "\n",
        "\n",
        "---\n",
        "\n"
      ],
      "metadata": {
        "id": "N2bZ4S0MAXAy"
      }
    },
    {
      "cell_type": "markdown",
      "source": [
        "**Question 6 :-**\n",
        "\n",
        "Using the data from Question 3, write code to analyze the data and answer the following questions \n",
        "\n",
        "**Note** -\n",
        "1. Draw plots to demonstrate the analysis for the following questions for better visualizations.\n",
        "2. Write code comments wherever required for code understanding\n",
        "\n",
        "**Insights to be drawn** -\n",
        "\n",
        "● Get all Pokemons whose spawn rate is less than 5%\n",
        "\n",
        "● Get all Pokemons that have less than 4 weaknesses\n",
        "\n",
        "● Get all Pokemons that have no multipliers at all\n",
        "\n",
        "● Get all Pokemons that do not have more than 2 evolutions\n",
        "\n",
        "● Get all Pokemons whose spawn time is less than 300 seconds.\n",
        "\n",
        "**Note**- spawn time format is \"05:32”, so assume “minute: second” format and perform the analysis.\n",
        "\n",
        "● Get all Pokemon who have more than two types of capabilities\n"
      ],
      "metadata": {
        "id": "QzjfU2wWAXyS"
      }
    },
    {
      "cell_type": "markdown",
      "source": [
        "**Answer 6 :-**"
      ],
      "metadata": {
        "id": "t7w4X-DjBoZx"
      }
    },
    {
      "cell_type": "code",
      "source": [
        "import pandas as pd\n",
        "import matplotlib.pyplot as plt\n",
        "\n",
        "# Load the data from the Excel file\n",
        "data = pd.read_excel(\"pokemon_data.xlsx\")"
      ],
      "metadata": {
        "id": "ypvdj4LKLwGI"
      },
      "execution_count": null,
      "outputs": []
    },
    {
      "cell_type": "code",
      "source": [
        "# Get all Pokemons whose spawn rate is less than 5%\n",
        "spawn_rate_threshold = 5\n",
        "spawn_rate_less_than_5 = data[data['spawn_chance'] < spawn_rate_threshold]\n",
        "print(\"Pokemons with spawn rate less than\", spawn_rate_threshold, \"%:\")\n",
        "print(spawn_rate_less_than_5[['name', 'spawn_chance']])\n",
        "print()"
      ],
      "metadata": {
        "colab": {
          "base_uri": "https://localhost:8080/"
        },
        "id": "g9WXYYvcS3B3",
        "outputId": "5d8ef95a-e46b-4b29-9aa3-fb5542b8ecba"
      },
      "execution_count": null,
      "outputs": [
        {
          "output_type": "stream",
          "name": "stdout",
          "text": [
            "Pokemons with spawn rate less than 5 %:\n",
            "           name  spawn_chance\n",
            "0     Bulbasaur        0.6900\n",
            "1       Ivysaur        0.0420\n",
            "2      Venusaur        0.0170\n",
            "3    Charmander        0.2530\n",
            "4    Charmeleon        0.0120\n",
            "..          ...           ...\n",
            "146     Dratini        0.3000\n",
            "147   Dragonair        0.0200\n",
            "148   Dragonite        0.0011\n",
            "149      Mewtwo        0.0000\n",
            "150         Mew        0.0000\n",
            "\n",
            "[147 rows x 2 columns]\n",
            "\n"
          ]
        }
      ]
    },
    {
      "cell_type": "code",
      "source": [
        "# Get all Pokemons that do not have more than 2 evolutions\n",
        "max_evolutions = 2\n",
        "less_than_2_evolutions = data[data['next_evolution'].str.len() <= max_evolutions]\n",
        "print(\"Pokemons with less than or equal to\", max_evolutions, \"evolutions:\")\n",
        "print(less_than_2_evolutions[['name', 'next_evolution']])\n",
        "print()"
      ],
      "metadata": {
        "colab": {
          "base_uri": "https://localhost:8080/"
        },
        "id": "90GwR-kZBwFO",
        "outputId": "368dd81e-4f03-4f5b-fc42-104a99728f30"
      },
      "execution_count": null,
      "outputs": [
        {
          "output_type": "stream",
          "name": "stdout",
          "text": [
            "Pokemons with less than or equal to 2 evolutions:\n",
            "Empty DataFrame\n",
            "Columns: [name, next_evolution]\n",
            "Index: []\n",
            "\n"
          ]
        }
      ]
    },
    {
      "cell_type": "code",
      "source": [
        "# Get all Pokemons that have less than 4 weaknesses\n",
        "max_weaknesses = 4\n",
        "less_than_4_weaknesses = data[data['weaknesses'].str.split(', ').apply(len) < max_weaknesses]\n",
        "print(\"Pokemons with less than\", max_weaknesses, \"weaknesses:\")\n",
        "print(less_than_4_weaknesses[['name', 'weaknesses']])\n",
        "print()"
      ],
      "metadata": {
        "colab": {
          "base_uri": "https://localhost:8080/"
        },
        "id": "7-Wv7ZL0LmH0",
        "outputId": "96375a96-0df0-4f58-aec6-449422c2f2db"
      },
      "execution_count": null,
      "outputs": [
        {
          "output_type": "stream",
          "name": "stdout",
          "text": [
            "Pokemons with less than 4 weaknesses:\n",
            "           name                     weaknesses\n",
            "3    Charmander    ['Water', 'Ground', 'Rock']\n",
            "4    Charmeleon    ['Water', 'Ground', 'Rock']\n",
            "5     Charizard  ['Water', 'Electric', 'Rock']\n",
            "6      Squirtle          ['Electric', 'Grass']\n",
            "7     Wartortle          ['Electric', 'Grass']\n",
            "..          ...                            ...\n",
            "145     Moltres  ['Water', 'Electric', 'Rock']\n",
            "146     Dratini     ['Ice', 'Dragon', 'Fairy']\n",
            "147   Dragonair     ['Ice', 'Dragon', 'Fairy']\n",
            "149      Mewtwo       ['Bug', 'Ghost', 'Dark']\n",
            "150         Mew       ['Bug', 'Ghost', 'Dark']\n",
            "\n",
            "[102 rows x 2 columns]\n",
            "\n"
          ]
        }
      ]
    },
    {
      "cell_type": "code",
      "source": [
        "# Get all Pokemons that have no multipliers at all\n",
        "no_multipliers = data[data['multipliers'].isna()]\n",
        "print(\"Pokemons with no multipliers:\")\n",
        "print(no_multipliers[['name', 'multipliers']])\n",
        "print()"
      ],
      "metadata": {
        "colab": {
          "base_uri": "https://localhost:8080/"
        },
        "id": "EaNE9-i-UBcA",
        "outputId": "174e69b7-c1da-40c5-a595-9ef0a735e471"
      },
      "execution_count": null,
      "outputs": [
        {
          "output_type": "stream",
          "name": "stdout",
          "text": [
            "Pokemons with no multipliers:\n",
            "           name multipliers\n",
            "2      Venusaur         NaN\n",
            "5     Charizard         NaN\n",
            "8     Blastoise         NaN\n",
            "11   Butterfree         NaN\n",
            "14     Beedrill         NaN\n",
            "..          ...         ...\n",
            "144      Zapdos         NaN\n",
            "145     Moltres         NaN\n",
            "148   Dragonite         NaN\n",
            "149      Mewtwo         NaN\n",
            "150         Mew         NaN\n",
            "\n",
            "[81 rows x 2 columns]\n",
            "\n"
          ]
        }
      ]
    },
    {
      "cell_type": "code",
      "source": [
        "# Get all Pokemons that do not have more than 2 evolutions\n",
        "max_evolutions = 2\n",
        "less_than_2_evolutions = data[data['next_evolution'].str.len() <= max_evolutions]\n",
        "print(\"Pokemons with less than or equal to\", max_evolutions, \"evolutions:\")\n",
        "print(less_than_2_evolutions[['name', 'next_evolution']])\n",
        "print()"
      ],
      "metadata": {
        "colab": {
          "base_uri": "https://localhost:8080/"
        },
        "id": "ORWBnfElY6m-",
        "outputId": "9d676852-3672-4cd9-9e93-1cc2eee64972"
      },
      "execution_count": null,
      "outputs": [
        {
          "output_type": "stream",
          "name": "stdout",
          "text": [
            "Pokemons with less than or equal to 2 evolutions:\n",
            "Empty DataFrame\n",
            "Columns: [name, next_evolution]\n",
            "Index: []\n",
            "\n"
          ]
        }
      ]
    },
    {
      "cell_type": "code",
      "source": [
        "#Convert spawn time to seconds for easier comparison\n",
        "data['spawn_time_seconds'] = pd.to_datetime(data['spawn_time'], format=\"%M:%S\").dt.minute * 60 + pd.to_datetime(data['spawn_time'], format=\"%M:%S\").dt.second\n",
        "\n",
        "# Get all Pokemons whose spawn time is less than 300 seconds\n",
        "spawn_time_threshold = 300\n",
        "spawn_time_less_than_300 = data[data['spawn_time_seconds'] < spawn_time_threshold]\n",
        "print(\"Pokemons with spawn time less than\", spawn_time_threshold, \"seconds:\")\n",
        "print(spawn_time_less_than_300[['name', 'spawn_time']])\n",
        "print()"
      ],
      "metadata": {
        "colab": {
          "base_uri": "https://localhost:8080/"
        },
        "id": "_40bsCIJZRTA",
        "outputId": "48e0cfbb-3043-4ac1-cbbc-c91bbc7cb037"
      },
      "execution_count": null,
      "outputs": [
        {
          "output_type": "stream",
          "name": "stdout",
          "text": [
            "Pokemons with spawn time less than 300 seconds:\n",
            "          name spawn_time\n",
            "6     Squirtle      04:25\n",
            "8    Blastoise      00:06\n",
            "10     Metapod      02:11\n",
            "12      Weedle      02:21\n",
            "13      Kakuna      02:30\n",
            "..         ...        ...\n",
            "127     Tauros      00:37\n",
            "129   Gyarados      02:15\n",
            "134    Jolteon      02:30\n",
            "136    Porygon      02:49\n",
            "139     Kabuto      00:05\n",
            "\n",
            "[75 rows x 2 columns]\n",
            "\n"
          ]
        }
      ]
    },
    {
      "cell_type": "code",
      "source": [
        "# Get all Pokemon who have more than two types of capabilities\n",
        "min_capability_types = 2\n",
        "more_than_2_capabilities = data[data['type'].str.split(', ').apply(len) > min_capability_types]\n",
        "print(\"Pokemons with more than\", min_capability_types, \"capability types:\")\n",
        "print(more_than_2_capabilities[['name', 'type']])\n",
        "print()"
      ],
      "metadata": {
        "colab": {
          "base_uri": "https://localhost:8080/"
        },
        "id": "YouOjH02ZWVj",
        "outputId": "c1d3a2a5-4e1f-4999-dcc3-4f0f9a9a7f8f"
      },
      "execution_count": null,
      "outputs": [
        {
          "output_type": "stream",
          "name": "stdout",
          "text": [
            "Pokemons with more than 2 capability types:\n",
            "Empty DataFrame\n",
            "Columns: [name, type]\n",
            "Index: []\n",
            "\n"
          ]
        }
      ]
    },
    {
      "cell_type": "code",
      "source": [
        "# Plotting\n",
        "# Bar plot: Number of Pokemons with different numbers of weaknesses\n",
        "weakness_counts = data['weaknesses'].str.split(', ').apply(len).value_counts().sort_index()\n",
        "weakness_counts.plot(kind='bar', xlabel='Number of Weaknesses', ylabel='Count', title='Number of Pokemons with Different Numbers of Weaknesses')\n",
        "plt.show()"
      ],
      "metadata": {
        "colab": {
          "base_uri": "https://localhost:8080/",
          "height": 467
        },
        "id": "zUpHHTXKZkKA",
        "outputId": "63c356c7-41f0-4a72-bfb4-7bfc51005c80"
      },
      "execution_count": null,
      "outputs": [
        {
          "output_type": "display_data",
          "data": {
            "text/plain": [
              "<Figure size 640x480 with 1 Axes>"
            ],
            "image/png": "[encoded data removed]"
          },
          "metadata": {}
        }
      ]
    },
    {
      "cell_type": "code",
      "source": [
        "# Pie chart: Percentage of Pokemons with single type and multiple types\n",
        "capability_types = data['type'].str.split(', ').apply(len)\n",
        "type_counts = capability_types.value_counts()\n",
        "labels = ['Single Type', 'Multiple Types']\n",
        "plt.pie(type_counts, labels=labels, autopct='%1.1f%%', shadow=True)\n",
        "plt.title('Percentage of Pokemons with Single Type and Multiple Types')\n",
        "plt.show()"
      ],
      "metadata": {
        "colab": {
          "base_uri": "https://localhost:8080/",
          "height": 428
        },
        "id": "7iQqhajqaYAa",
        "outputId": "bc0831eb-0c04-43c2-ac10-5ac6f869c9dc"
      },
      "execution_count": null,
      "outputs": [
        {
          "output_type": "display_data",
          "data": {
            "text/plain": [
              "<Figure size 640x480 with 1 Axes>"
            ],
            "image/png": "[encoded data removed]"
          },
          "metadata": {}
        }
      ]
    },
    {
      "cell_type": "markdown",
      "source": [
        "\n",
        "\n",
        "---\n",
        "\n"
      ],
      "metadata": {
        "id": "IAx8TisCajfl"
      }
    },
    {
      "cell_type": "markdown",
      "source": [
        "**Question 7** :-\n",
        "\n",
        "Using the data from Question 4, write code to analyze the data and answer the following questions \n",
        "**Note** -\n",
        "\n",
        "1. Draw plots to demonstrate the analysis for the following questions for better visualizations\n",
        "2. Write code comments wherever required for code understanding\n",
        "\n",
        "**Insights to be drawn** -\n",
        "\n",
        "● Get all the Earth meteorites that fell before the year 2000\n",
        "\n",
        "● Get all the earth meteorites co-ordinates who fell before the year 1970\n",
        "\n",
        "● Assuming that the mass of the earth meteorites was in kg, get all those whose mass was more than 10000kg\n"
      ],
      "metadata": {
        "id": "kvWd-44hanWl"
      }
    },
    {
      "cell_type": "markdown",
      "source": [
        "**Answer 7** :-"
      ],
      "metadata": {
        "id": "U3XAJzkPbL8n"
      }
    },
    {
      "cell_type": "code",
      "source": [
        "import pandas as pd\n",
        "import requests\n",
        "\n",
        "# Download the data from the provided link\n",
        "url = \"https://data.nasa.gov/resource/y77d-th95.json\"\n",
        "response = requests.get(url)\n",
        "data = response.json()\n",
        "\n",
        "# Convert the data into a pandas DataFrame\n",
        "df = pd.DataFrame(data)\n",
        "\n",
        "# Rename columns to match the expected attribute names\n",
        "df = df.rename(columns={\n",
        "    \"name_of_earth_meteorite\": \"name\",\n",
        "    \"id_of_earth_meteorite\": \"id\",\n",
        "    \"nametype\": \"nametype\",\n",
        "    \"recclass\": \"recclass\",\n",
        "    \"mass_g\": \"mass\",\n",
        "    \"year\": \"year\",\n",
        "    \"reclat\": \"reclat\",\n",
        "    \"reclong\": \"reclong\",\n",
        "})"
      ],
      "metadata": {
        "id": "CDaKxkpcgkU1"
      },
      "execution_count": null,
      "outputs": []
    },
    {
      "cell_type": "code",
      "source": [
        "# Convert mass column to float and year column to datetime\n",
        "df['mass'] = df['mass'].astype(float)\n",
        "df['year'] = pd.to_datetime(df['year'], errors='coerce')\n",
        "\n",
        "# Get all the Earth meteorites that fell before the year 2000\n",
        "before_2000 = df[df['year'].dt.year < 2000]\n",
        "print(\"Earth meteorites that fell before the year 2000:\")\n",
        "print(before_2000)"
      ],
      "metadata": {
        "colab": {
          "base_uri": "https://localhost:8080/"
        },
        "id": "NTBDtxfcmsn-",
        "outputId": "6326e01b-7608-4287-a65d-8d9afb634fd3"
      },
      "execution_count": null,
      "outputs": [
        {
          "output_type": "stream",
          "name": "stdout",
          "text": [
            "Earth meteorites that fell before the year 2000:\n",
            "          name     id nametype     recclass      mass  fall       year  \\\n",
            "0       Aachen      1    Valid           L5      21.0  Fell 1880-01-01   \n",
            "1       Aarhus      2    Valid           H6     720.0  Fell 1951-01-01   \n",
            "2         Abee      6    Valid          EH4  107000.0  Fell 1952-01-01   \n",
            "3     Acapulco     10    Valid  Acapulcoite    1914.0  Fell 1976-01-01   \n",
            "4      Achiras    370    Valid           L6     780.0  Fell 1902-01-01   \n",
            "..         ...    ...      ...          ...       ...   ...        ...   \n",
            "994   Timochin  24004    Valid           H5   65500.0  Fell 1807-01-01   \n",
            "995   Tirupati  24009    Valid           H6     230.0  Fell 1934-01-01   \n",
            "997      Tjabe  24011    Valid           H6   20000.0  Fell 1869-01-01   \n",
            "998   Tjerebon  24012    Valid           L5   16500.0  Fell 1922-01-01   \n",
            "999  Tomakovka  24019    Valid          LL6     600.0  Fell 1905-01-01   \n",
            "\n",
            "         reclat      reclong  \\\n",
            "0     50.775000     6.083330   \n",
            "1     56.183330    10.233330   \n",
            "2     54.216670  -113.000000   \n",
            "3     16.883330   -99.900000   \n",
            "4    -33.166670   -64.950000   \n",
            "..          ...          ...   \n",
            "994   54.500000    35.200000   \n",
            "995   13.633330    79.416670   \n",
            "997   -7.083330   111.533330   \n",
            "998   -6.666670   106.583330   \n",
            "999   47.850000    34.766670   \n",
            "\n",
            "                                           geolocation  \\\n",
            "0    {'type': 'Point', 'coordinates': [6.08333, 50....   \n",
            "1    {'type': 'Point', 'coordinates': [10.23333, 56...   \n",
            "2    {'type': 'Point', 'coordinates': [-113, 54.216...   \n",
            "3    {'type': 'Point', 'coordinates': [-99.9, 16.88...   \n",
            "4    {'type': 'Point', 'coordinates': [-64.95, -33....   \n",
            "..                                                 ...   \n",
            "994     {'type': 'Point', 'coordinates': [35.2, 54.5]}   \n",
            "995  {'type': 'Point', 'coordinates': [79.41667, 13...   \n",
            "997  {'type': 'Point', 'coordinates': [111.53333, -...   \n",
            "998  {'type': 'Point', 'coordinates': [106.58333, -...   \n",
            "999  {'type': 'Point', 'coordinates': [34.76667, 47...   \n",
            "\n",
            "    :@computed_region_cbhk_fwbd :@computed_region_nnqa_25f4  \n",
            "0                           NaN                         NaN  \n",
            "1                           NaN                         NaN  \n",
            "2                           NaN                         NaN  \n",
            "3                           NaN                         NaN  \n",
            "4                           NaN                         NaN  \n",
            "..                          ...                         ...  \n",
            "994                         NaN                         NaN  \n",
            "995                         NaN                         NaN  \n",
            "997                         NaN                         NaN  \n",
            "998                         NaN                         NaN  \n",
            "999                         NaN                         NaN  \n",
            "\n",
            "[912 rows x 12 columns]\n"
          ]
        }
      ]
    },
    {
      "cell_type": "code",
      "source": [
        "# Get all the Earth meteorites' coordinates that fell before the year 1970\n",
        "before_1970 = df[df['year'].dt.year < 1970]\n",
        "print(\"Earth meteorites' coordinates that fell before the year 1970:\")\n",
        "print(before_1970[['reclat', 'reclong']])"
      ],
      "metadata": {
        "colab": {
          "base_uri": "https://localhost:8080/"
        },
        "id": "r4Jbq4Tdmyw9",
        "outputId": "4371cf95-72e7-49e9-839c-64cc4f30578a"
      },
      "execution_count": null,
      "outputs": [
        {
          "output_type": "stream",
          "name": "stdout",
          "text": [
            "Earth meteorites' coordinates that fell before the year 1970:\n",
            "         reclat      reclong\n",
            "0     50.775000     6.083330\n",
            "1     56.183330    10.233330\n",
            "2     54.216670  -113.000000\n",
            "4    -33.166670   -64.950000\n",
            "5     32.100000    71.800000\n",
            "..          ...          ...\n",
            "994   54.500000    35.200000\n",
            "995   13.633330    79.416670\n",
            "997   -7.083330   111.533330\n",
            "998   -6.666670   106.583330\n",
            "999   47.850000    34.766670\n",
            "\n",
            "[763 rows x 2 columns]\n"
          ]
        }
      ]
    },
    {
      "cell_type": "code",
      "source": [
        "# Assuming mass is in kg, get all Earth meteorites with a mass greater than 10000 kg\n",
        "mass_threshold = 10000\n",
        "greater_than_10000kg = df[df['mass'] > mass_threshold]\n",
        "print(\"Earth meteorites with a mass greater than\", mass_threshold, \"kg:\")\n",
        "print(greater_than_10000kg)"
      ],
      "metadata": {
        "colab": {
          "base_uri": "https://localhost:8080/"
        },
        "id": "SAVpjUgcm5ok",
        "outputId": "41496022-f724-4052-da8b-fada91917357"
      },
      "execution_count": null,
      "outputs": [
        {
          "output_type": "stream",
          "name": "stdout",
          "text": [
            "Earth meteorites with a mass greater than 10000 kg:\n",
            "           name     id nametype   recclass      mass  fall       year  \\\n",
            "2          Abee      6    Valid        EH4  107000.0  Fell 1952-01-01   \n",
            "7          Agen    392    Valid         H5   30000.0  Fell 1814-01-01   \n",
            "11          Aïr    424    Valid         L6   24000.0  Fell 1925-01-01   \n",
            "16      Akyumak    433    Valid  Iron, IVA   50000.0  Fell 1981-01-01   \n",
            "27   Alfianello    466    Valid         L6  228000.0  Fell 1883-01-01   \n",
            "..          ...    ...      ...        ...       ...   ...        ...   \n",
            "991   Tieschitz  23989    Valid     H/L3.6   28000.0  Fell 1878-01-01   \n",
            "992      Tilden  23998    Valid         L6   74800.0  Fell 1927-01-01   \n",
            "994    Timochin  24004    Valid         H5   65500.0  Fell 1807-01-01   \n",
            "997       Tjabe  24011    Valid         H6   20000.0  Fell 1869-01-01   \n",
            "998    Tjerebon  24012    Valid         L5   16500.0  Fell 1922-01-01   \n",
            "\n",
            "        reclat      reclong  \\\n",
            "2    54.216670  -113.000000   \n",
            "7    44.216670     0.616670   \n",
            "11   19.083330     8.383330   \n",
            "16   39.916670    42.816670   \n",
            "27   45.266670    10.150000   \n",
            "..         ...          ...   \n",
            "991  49.600000    17.116670   \n",
            "992  38.200000   -89.683330   \n",
            "994  54.500000    35.200000   \n",
            "997  -7.083330   111.533330   \n",
            "998  -6.666670   106.583330   \n",
            "\n",
            "                                           geolocation  \\\n",
            "2    {'type': 'Point', 'coordinates': [-113, 54.216...   \n",
            "7    {'type': 'Point', 'coordinates': [0.61667, 44....   \n",
            "11   {'type': 'Point', 'coordinates': [8.38333, 19....   \n",
            "16   {'type': 'Point', 'coordinates': [42.81667, 39...   \n",
            "27   {'type': 'Point', 'coordinates': [10.15, 45.26...   \n",
            "..                                                 ...   \n",
            "991  {'type': 'Point', 'coordinates': [17.11667, 49...   \n",
            "992  {'type': 'Point', 'coordinates': [-89.68333, 3...   \n",
            "994     {'type': 'Point', 'coordinates': [35.2, 54.5]}   \n",
            "997  {'type': 'Point', 'coordinates': [111.53333, -...   \n",
            "998  {'type': 'Point', 'coordinates': [106.58333, -...   \n",
            "\n",
            "    :@computed_region_cbhk_fwbd :@computed_region_nnqa_25f4  \n",
            "2                           NaN                         NaN  \n",
            "7                           NaN                         NaN  \n",
            "11                          NaN                         NaN  \n",
            "16                          NaN                         NaN  \n",
            "27                          NaN                         NaN  \n",
            "..                          ...                         ...  \n",
            "991                         NaN                         NaN  \n",
            "992                          34                        1762  \n",
            "994                         NaN                         NaN  \n",
            "997                         NaN                         NaN  \n",
            "998                         NaN                         NaN  \n",
            "\n",
            "[243 rows x 12 columns]\n"
          ]
        }
      ]
    },
    {
      "cell_type": "code",
      "source": [
        "#Bar Plot: Top 10 Most Common Meteorite Types\n",
        "top_10_types = df['recclass'].value_counts().head(10)\n",
        "plt.figure(figsize=(10, 6))\n",
        "top_10_types.plot(kind='bar')\n",
        "plt.xlabel('Meteorite Type')\n",
        "plt.ylabel('Count')\n",
        "plt.title('Top 10 Most Common Meteorite Types')\n",
        "plt.show()"
      ],
      "metadata": {
        "colab": {
          "base_uri": "https://localhost:8080/",
          "height": 624
        },
        "id": "HN4a1zqbm-hZ",
        "outputId": "6b5d2262-0ad8-40b5-dddb-6b02b12fd5f8"
      },
      "execution_count": null,
      "outputs": [
        {
          "output_type": "display_data",
          "data": {
            "text/plain": [
              "<Figure size 1000x600 with 1 Axes>"
            ],
            "image/png": "[encoded data removed]"
          },
          "metadata": {}
        }
      ]
    },
    {
      "cell_type": "code",
      "source": [
        "#Pie Chart: Meteorite Composition by Type\n",
        "plt.figure(figsize=(8, 8))\n",
        "composition_counts = df['recclass'].value_counts().head(10)\n",
        "plt.pie(composition_counts, labels=composition_counts.index, autopct='%1.1f%%')\n",
        "plt.title('Meteorite Composition by Type')\n",
        "plt.show()"
      ],
      "metadata": {
        "colab": {
          "base_uri": "https://localhost:8080/",
          "height": 675
        },
        "id": "weYsGc9pnPUh",
        "outputId": "1d1d4ad1-61a1-444f-f3f6-fd3c4e154c3e"
      },
      "execution_count": null,
      "outputs": [
        {
          "output_type": "display_data",
          "data": {
            "text/plain": [
              "<Figure size 800x800 with 1 Axes>"
            ],
            "image/png": "[encoded data removed]"
          },
          "metadata": {}
        }
      ]
    },
    {
      "cell_type": "markdown",
      "source": [
        "\n",
        "\n",
        "---\n",
        "\n"
      ],
      "metadata": {
        "id": "FiS_qQPqn2Jb"
      }
    },
    {
      "cell_type": "markdown",
      "source": [
        "**Question 8** :-\n",
        "\n",
        "Using the data from Question 5, write code the analyze the data and answer the following questions \n",
        "\n",
        "**Note -**\n",
        "1. Draw plots to demonstrate the analysis for the following questions and better visualizations\n",
        "2. Write code comments wherever required for code understanding\n",
        "\n",
        "**Insights to be drawn -**\n",
        "\n",
        "● Get all the overall ratings for each season and using plots compare the ratings for all the\n",
        "seasons, like season 1 ratings, season 2, and so on.\n",
        "\n",
        "● Get all the episode names, whose average rating is more than 8 for every season\n",
        "\n",
        "● Get all the episode names that aired before May 2019\n",
        "\n",
        "● Get the episode name from each season with the highest and lowest rating\n",
        "\n",
        "● Get the summary for the most popular ( ratings ) episode in every season"
      ],
      "metadata": {
        "id": "5-aiAuzDn296"
      }
    },
    {
      "cell_type": "markdown",
      "source": [
        "**Answer 8** :-"
      ],
      "metadata": {
        "id": "yYotVInnopm7"
      }
    },
    {
      "cell_type": "code",
      "source": [
        "import requests\n",
        "import matplotlib.pyplot as plt\n",
        "\n",
        "# Fetch data from the API\n",
        "def fetch_data_from_url(link):\n",
        "    response = requests.get(link)\n",
        "    response.raise_for_status()\n",
        "    return response.json()\n",
        "\n",
        "data = fetch_data_from_url(\"http://api.tvmaze.com/singlesearch/shows?q=westworld&embed=episodes\")"
      ],
      "metadata": {
        "id": "IJQmb_1Jnap3"
      },
      "execution_count": null,
      "outputs": []
    },
    {
      "cell_type": "code",
      "source": [
        "# Get overall ratings for each season\n",
        "season_ratings = {}  # Dictionary to store season ratings\n",
        "for episode in data[\"_embedded\"][\"episodes\"]:\n",
        "    season = episode[\"season\"]\n",
        "    rating = episode[\"rating\"][\"average\"]\n",
        "    if season not in season_ratings:\n",
        "        season_ratings[season] = []\n",
        "    season_ratings[season].append(rating)\n",
        "\n",
        "# Plotting ratings for each season\n",
        "seasons = list(season_ratings.keys())\n",
        "ratings = [sum(season_ratings[season]) / len(season_ratings[season]) for season in seasons]\n",
        "\n",
        "plt.bar(seasons, ratings)\n",
        "plt.xlabel(\"Season\")\n",
        "plt.ylabel(\"Average Rating\")\n",
        "plt.title(\"Ratings for Each Season\")\n",
        "plt.show()"
      ],
      "metadata": {
        "colab": {
          "base_uri": "https://localhost:8080/",
          "height": 472
        },
        "id": "y0zR-jXauhTX",
        "outputId": "647fad14-42b9-4403-c58f-2801b8f111d3"
      },
      "execution_count": null,
      "outputs": [
        {
          "output_type": "display_data",
          "data": {
            "text/plain": [
              "<Figure size 640x480 with 1 Axes>"
            ],
            "image/png": "[encoded data removed]"
          },
          "metadata": {}
        }
      ]
    },
    {
      "cell_type": "code",
      "source": [
        "# Get episode names with average rating more than 8 for every season\n",
        "highly_rated_episodes = []\n",
        "for episode in data[\"_embedded\"][\"episodes\"]:\n",
        "    if episode[\"rating\"][\"average\"] > 8:\n",
        "        highly_rated_episodes.append(episode[\"name\"])\n",
        "\n",
        "print(\"Episode names with average rating more than 8 for every season:\")\n",
        "print(highly_rated_episodes)"
      ],
      "metadata": {
        "colab": {
          "base_uri": "https://localhost:8080/"
        },
        "id": "V7xdiAy2umxw",
        "outputId": "47a9b186-044e-4094-dac2-c334c61b2c13"
      },
      "execution_count": null,
      "outputs": [
        {
          "output_type": "stream",
          "name": "stdout",
          "text": [
            "Episode names with average rating more than 8 for every season:\n",
            "[\"Trompe L'Oeil\", 'The Well-Tempered Clavier', 'The Bicameral Mind', 'Kiksuya', 'Vanishing Point', 'The Passenger']\n"
          ]
        }
      ]
    },
    {
      "cell_type": "code",
      "source": [
        "# Get episode names that aired before May 2019\n",
        "episodes_before_may_2019 = []\n",
        "for episode in data[\"_embedded\"][\"episodes\"]:\n",
        "    airdate = episode[\"airdate\"]\n",
        "    if airdate and airdate < \"2019-05-01\":\n",
        "        episodes_before_may_2019.append(episode[\"name\"])\n",
        "\n",
        "print(\"Episode names that aired before May 2019:\")\n",
        "print(episodes_before_may_2019)"
      ],
      "metadata": {
        "colab": {
          "base_uri": "https://localhost:8080/"
        },
        "id": "SOFfuwEHuuZe",
        "outputId": "d66718f9-b662-4566-f6ed-e6e79ff657f2"
      },
      "execution_count": null,
      "outputs": [
        {
          "output_type": "stream",
          "name": "stdout",
          "text": [
            "Episode names that aired before May 2019:\n",
            "['The Original', 'Chestnut', 'The Stray', 'Dissonance Theory', 'Contrapasso', 'The Adversary', \"Trompe L'Oeil\", 'Trace Decay', 'The Well-Tempered Clavier', 'The Bicameral Mind', 'Journey Into Night', 'Reunion', 'Virtù e Fortuna', 'The Riddle of the Sphinx', 'Akane No Mai', 'Phase Space', 'Les Écorchés', 'Kiksuya', 'Vanishing Point', 'The Passenger']\n"
          ]
        }
      ]
    },
    {
      "cell_type": "code",
      "source": [
        "# Get episode names with the highest and lowest ratings for each season\n",
        "highest_rated_episodes = {}\n",
        "lowest_rated_episodes = {}\n",
        "for episode in data[\"_embedded\"][\"episodes\"]:\n",
        "    season = episode[\"season\"]\n",
        "    rating = episode[\"rating\"][\"average\"]\n",
        "    if season not in highest_rated_episodes:\n",
        "        highest_rated_episodes[season] = {\"episode\": episode[\"name\"], \"rating\": rating}\n",
        "        lowest_rated_episodes[season] = {\"episode\": episode[\"name\"], \"rating\": rating}\n",
        "    else:\n",
        "        if rating > highest_rated_episodes[season][\"rating\"]:\n",
        "            highest_rated_episodes[season] = {\"episode\": episode[\"name\"], \"rating\": rating}\n",
        "        if rating < lowest_rated_episodes[season][\"rating\"]:\n",
        "            lowest_rated_episodes[season] = {\"episode\": episode[\"name\"], \"rating\": rating}\n",
        "\n",
        "print(\"Episode with the highest and lowest rating for each season:\")\n",
        "for season in highest_rated_episodes:\n",
        "    print(\"Season:\", season)\n",
        "    print(\"Highest Rated Episode:\", highest_rated_episodes[season][\"episode\"])\n",
        "    print(\"Lowest Rated Episode:\", lowest_rated_episodes[season][\"episode\"])\n",
        "    print()"
      ],
      "metadata": {
        "colab": {
          "base_uri": "https://localhost:8080/"
        },
        "id": "dJIXxrGesmbP",
        "outputId": "1cd6f4a1-e199-48e1-e095-6ab3585b0920"
      },
      "execution_count": null,
      "outputs": [
        {
          "output_type": "stream",
          "name": "stdout",
          "text": [
            "Episode with the highest and lowest rating for each season:\n",
            "Season: 1\n",
            "Highest Rated Episode: The Bicameral Mind\n",
            "Lowest Rated Episode: The Stray\n",
            "\n",
            "Season: 2\n",
            "Highest Rated Episode: Kiksuya\n",
            "Lowest Rated Episode: Akane No Mai\n",
            "\n",
            "Season: 3\n",
            "Highest Rated Episode: Parce Domine\n",
            "Lowest Rated Episode: Decoherence\n",
            "\n",
            "Season: 4\n",
            "Highest Rated Episode: Zhuangzi\n",
            "Lowest Rated Episode: The Auguries\n",
            "\n"
          ]
        }
      ]
    },
    {
      "cell_type": "code",
      "source": [
        "# Get summary for the most popular (rating) episode in every season\n",
        "most_popular_episodes = {}\n",
        "for episode in data[\"_embedded\"][\"episodes\"]:\n",
        "    season = episode[\"season\"]\n",
        "    rating = episode[\"rating\"][\"average\"]\n",
        "    if season not in most_popular_episodes:\n",
        "        most_popular_episodes[season] = {\"episode\": episode[\"name\"], \"rating\": rating, \"summary\": episode[\"summary\"]}\n",
        "    else:\n",
        "        if rating > most_popular_episodes[season][\"rating\"]:\n",
        "            most_popular_episodes[season] = {\"episode\": episode[\"name\"], \"rating\": rating, \"summary\": episode[\"summary\"]}\n",
        "\n",
        "print(\"Summary for the most popular episode in every season:\")\n",
        "for season in most_popular_episodes:\n",
        "    print(\"Season:\", season)\n",
        "    print(\"Episode:\", most_popular_episodes[season][\"episode\"])\n",
        "    print(\"Summary:\", most_popular_episodes[season][\"summary\"])\n",
        "    print()"
      ],
      "metadata": {
        "colab": {
          "base_uri": "https://localhost:8080/"
        },
        "id": "j2sLZMBbvOmS",
        "outputId": "ba97eb34-6190-43d3-9cfe-031d5756ed29"
      },
      "execution_count": null,
      "outputs": [
        {
          "output_type": "stream",
          "name": "stdout",
          "text": [
            "Summary for the most popular episode in every season:\n",
            "Season: 1\n",
            "Episode: The Bicameral Mind\n",
            "Summary: <p>Delores finds out the truth about William's fate. Meanwhile, Maeve organizes an escape plan, only to discover that someone else is pulling the strings. And Robert plays the final piece in his grand narrative.</p>\n",
            "\n",
            "Season: 2\n",
            "Episode: Kiksuya\n",
            "Summary: <p>Another of Westworld's Host revolutionaries is revealed. Meanwhile, Emily finds the Man and convinces the Ghost Nation to hand him over to her to ensure his suffering.</p>\n",
            "\n",
            "Season: 3\n",
            "Episode: Parce Domine\n",
            "Summary: <p>If you're stuck in a loop, try walking in a straight line.</p>\n",
            "\n",
            "Season: 4\n",
            "Episode: Zhuangzi\n",
            "Summary: <p>God is bored.</p>\n",
            "\n"
          ]
        }
      ]
    },
    {
      "cell_type": "markdown",
      "source": [
        "\n",
        "\n",
        "---\n",
        "\n"
      ],
      "metadata": {
        "id": "dLb9KrMjwz46"
      }
    },
    {
      "cell_type": "markdown",
      "source": [
        "**Question 9** :-\n",
        "\n",
        "Write a program to read the data from the following link, perform data analysis and answer the following questions\n",
        "\n",
        "**Note** -\n",
        "1. Write code comments wherever required for code understanding\n",
        "\n",
        "**Link**- https://data.wa.gov/api/views/f6w7-q2d2/rows.csv?accessType=DOWNLOAD\n",
        "\n",
        "**Insights to be drawn** -\n",
        "\n",
        "● Get all the cars and their types that do not qualify for clean alternative fuel vehicle\n",
        "\n",
        "● Get all TESLA cars with the model year, and model type made in Bothell City.\n",
        "\n",
        "● Get all the cars that have an electric range of more than 100, and were made after 2015\n",
        "\n",
        "● Draw plots to show the distribution between city and electric vehicle type\n"
      ],
      "metadata": {
        "id": "v6ZWOsFcw0fZ"
      }
    },
    {
      "cell_type": "markdown",
      "source": [
        "**Answer 9** :-"
      ],
      "metadata": {
        "id": "_RRQ-FmU0Wyx"
      }
    },
    {
      "cell_type": "code",
      "source": [
        "import pandas as pd\n",
        "import matplotlib.pyplot as plt\n",
        "\n",
        "# Read data from the CSV link\n",
        "data_url = \"https://data.wa.gov/api/views/f6w7-q2d2/rows.csv?accessType=DOWNLOAD\"\n",
        "data = pd.read_csv(data_url)\n",
        "data"
      ],
      "metadata": {
        "colab": {
          "base_uri": "https://localhost:8080/",
          "height": 1000
        },
        "id": "R09KOT4Z0bti",
        "outputId": "76bb1648-c6b7-412e-b662-b661a4bf3447"
      },
      "execution_count": null,
      "outputs": [
        {
          "output_type": "execute_result",
          "data": {
            "text/plain": [
              "        VIN (1-10)    County           City State  Postal Code  Model Year  \\\n",
              "0       5YJXCAE26J    Yakima         Yakima    WA      98908.0        2018   \n",
              "1       JHMZC5F37M    Kitsap        Poulsbo    WA      98370.0        2021   \n",
              "2       5YJ3E1EB0K      King        Seattle    WA      98199.0        2019   \n",
              "3       1N4AZ0CP5D      King        Seattle    WA      98119.0        2013   \n",
              "4       5YJSA1E21H  Thurston          Lacey    WA      98516.0        2017   \n",
              "...            ...       ...            ...   ...          ...         ...   \n",
              "130438  7SAYGDEE6P    Pierce     Gig Harbor    WA      98335.0        2023   \n",
              "130439  1N4BZ1CV7N    Pierce         Tacoma    WA      98408.0        2022   \n",
              "130440  5YJYGDEE8M      King        Seattle    WA      98109.0        2021   \n",
              "130441  5YJXCBE22L    Island  Camano Island    WA      98282.0        2020   \n",
              "130442  5YJ3E1EA5M    Pierce       Puyallup    WA      98375.0        2021   \n",
              "\n",
              "          Make    Model                   Electric Vehicle Type  \\\n",
              "0        TESLA  MODEL X          Battery Electric Vehicle (BEV)   \n",
              "1        HONDA  CLARITY  Plug-in Hybrid Electric Vehicle (PHEV)   \n",
              "2        TESLA  MODEL 3          Battery Electric Vehicle (BEV)   \n",
              "3       NISSAN     LEAF          Battery Electric Vehicle (BEV)   \n",
              "4        TESLA  MODEL S          Battery Electric Vehicle (BEV)   \n",
              "...        ...      ...                                     ...   \n",
              "130438   TESLA  MODEL Y          Battery Electric Vehicle (BEV)   \n",
              "130439  NISSAN     LEAF          Battery Electric Vehicle (BEV)   \n",
              "130440   TESLA  MODEL Y          Battery Electric Vehicle (BEV)   \n",
              "130441   TESLA  MODEL X          Battery Electric Vehicle (BEV)   \n",
              "130442   TESLA  MODEL 3          Battery Electric Vehicle (BEV)   \n",
              "\n",
              "        Clean Alternative Fuel Vehicle (CAFV) Eligibility  Electric Range  \\\n",
              "0                 Clean Alternative Fuel Vehicle Eligible             238   \n",
              "1                 Clean Alternative Fuel Vehicle Eligible              47   \n",
              "2                 Clean Alternative Fuel Vehicle Eligible             220   \n",
              "3                 Clean Alternative Fuel Vehicle Eligible              75   \n",
              "4                 Clean Alternative Fuel Vehicle Eligible             210   \n",
              "...                                                   ...             ...   \n",
              "130438  Eligibility unknown as battery range has not b...               0   \n",
              "130439  Eligibility unknown as battery range has not b...               0   \n",
              "130440  Eligibility unknown as battery range has not b...               0   \n",
              "130441            Clean Alternative Fuel Vehicle Eligible             293   \n",
              "130442  Eligibility unknown as battery range has not b...               0   \n",
              "\n",
              "        Base MSRP  Legislative District  DOL Vehicle ID  \\\n",
              "0               0                  14.0       141151601   \n",
              "1               0                  23.0       171566447   \n",
              "2               0                  36.0         9426525   \n",
              "3               0                  36.0       211807760   \n",
              "4               0                  22.0       185810306   \n",
              "...           ...                   ...             ...   \n",
              "130438          0                  26.0       231134102   \n",
              "130439          0                  29.0       185810943   \n",
              "130440          0                  36.0       176542418   \n",
              "130441          0                  10.0       102834938   \n",
              "130442          0                   2.0       180473639   \n",
              "\n",
              "                                      Vehicle Location  \\\n",
              "0                          POINT (-120.56916 46.58514)   \n",
              "1                          POINT (-122.64681 47.73689)   \n",
              "2                          POINT (-122.40092 47.65908)   \n",
              "3                           POINT (-122.3684 47.64586)   \n",
              "4                          POINT (-122.75379 47.06316)   \n",
              "...                                                ...   \n",
              "130438   POINT (-122.58354539999999 47.32344880000005)   \n",
              "130439  POINT (-122.43810499999995 47.203220000000044)   \n",
              "130440                     POINT (-122.35022 47.63824)   \n",
              "130441                     POINT (-122.40049 48.23986)   \n",
              "130442                      POINT (-122.30116 47.1165)   \n",
              "\n",
              "                                         Electric Utility  2020 Census Tract  \n",
              "0                                              PACIFICORP       5.307700e+10  \n",
              "1                                  PUGET SOUND ENERGY INC       5.303509e+10  \n",
              "2            CITY OF SEATTLE - (WA)|CITY OF TACOMA - (WA)       5.303301e+10  \n",
              "3            CITY OF SEATTLE - (WA)|CITY OF TACOMA - (WA)       5.303301e+10  \n",
              "4                                  PUGET SOUND ENERGY INC       5.306701e+10  \n",
              "...                                                   ...                ...  \n",
              "130438  BONNEVILLE POWER ADMINISTRATION||CITY OF TACOM...       5.305307e+10  \n",
              "130439  BONNEVILLE POWER ADMINISTRATION||CITY OF TACOM...       5.305306e+10  \n",
              "130440       CITY OF SEATTLE - (WA)|CITY OF TACOMA - (WA)       5.303301e+10  \n",
              "130441  BONNEVILLE POWER ADMINISTRATION||PUD 1 OF SNOH...       5.302997e+10  \n",
              "130442  BONNEVILLE POWER ADMINISTRATION||CITY OF TACOM...       5.305307e+10  \n",
              "\n",
              "[130443 rows x 17 columns]"
            ],
            "text/html": [
              "\n",
              "  <div id=\"df-001aa68f-02c1-4b21-b36a-3adaa806b878\">\n",
              "    <div class=\"colab-df-container\">\n",
              "      <div>\n",
              "<style scoped>\n",
              "    .dataframe tbody tr th:only-of-type {\n",
              "        vertical-align: middle;\n",
              "    }\n",
              "\n",
              "    .dataframe tbody tr th {\n",
              "        vertical-align: top;\n",
              "    }\n",
              "\n",
              "    .dataframe thead th {\n",
              "        text-align: right;\n",
              "    }\n",
              "</style>\n",
              "<table border=\"1\" class=\"dataframe\">\n",
              "  <thead>\n",
              "    <tr style=\"text-align: right;\">\n",
              "      <th></th>\n",
              "      <th>VIN (1-10)</th>\n",
              "      <th>County</th>\n",
              "      <th>City</th>\n",
              "      <th>State</th>\n",
              "      <th>Postal Code</th>\n",
              "      <th>Model Year</th>\n",
              "      <th>Make</th>\n",
              "      <th>Model</th>\n",
              "      <th>Electric Vehicle Type</th>\n",
              "      <th>Clean Alternative Fuel Vehicle (CAFV) Eligibility</th>\n",
              "      <th>Electric Range</th>\n",
              "      <th>Base MSRP</th>\n",
              "      <th>Legislative District</th>\n",
              "      <th>DOL Vehicle ID</th>\n",
              "      <th>Vehicle Location</th>\n",
              "      <th>Electric Utility</th>\n",
              "      <th>2020 Census Tract</th>\n",
              "    </tr>\n",
              "  </thead>\n",
              "  <tbody>\n",
              "    <tr>\n",
              "      <th>0</th>\n",
              "      <td>5YJXCAE26J</td>\n",
              "      <td>Yakima</td>\n",
              "      <td>Yakima</td>\n",
              "      <td>WA</td>\n",
              "      <td>98908.0</td>\n",
              "      <td>2018</td>\n",
              "      <td>TESLA</td>\n",
              "      <td>MODEL X</td>\n",
              "      <td>Battery Electric Vehicle (BEV)</td>\n",
              "      <td>Clean Alternative Fuel Vehicle Eligible</td>\n",
              "      <td>238</td>\n",
              "      <td>0</td>\n",
              "      <td>14.0</td>\n",
              "      <td>141151601</td>\n",
              "      <td>POINT (-120.56916 46.58514)</td>\n",
              "      <td>PACIFICORP</td>\n",
              "      <td>5.307700e+10</td>\n",
              "    </tr>\n",
              "    <tr>\n",
              "      <th>1</th>\n",
              "      <td>JHMZC5F37M</td>\n",
              "      <td>Kitsap</td>\n",
              "      <td>Poulsbo</td>\n",
              "      <td>WA</td>\n",
              "      <td>98370.0</td>\n",
              "      <td>2021</td>\n",
              "      <td>HONDA</td>\n",
              "      <td>CLARITY</td>\n",
              "      <td>Plug-in Hybrid Electric Vehicle (PHEV)</td>\n",
              "      <td>Clean Alternative Fuel Vehicle Eligible</td>\n",
              "      <td>47</td>\n",
              "      <td>0</td>\n",
              "      <td>23.0</td>\n",
              "      <td>171566447</td>\n",
              "      <td>POINT (-122.64681 47.73689)</td>\n",
              "      <td>PUGET SOUND ENERGY INC</td>\n",
              "      <td>5.303509e+10</td>\n",
              "    </tr>\n",
              "    <tr>\n",
              "      <th>2</th>\n",
              "      <td>5YJ3E1EB0K</td>\n",
              "      <td>King</td>\n",
              "      <td>Seattle</td>\n",
              "      <td>WA</td>\n",
              "      <td>98199.0</td>\n",
              "      <td>2019</td>\n",
              "      <td>TESLA</td>\n",
              "      <td>MODEL 3</td>\n",
              "      <td>Battery Electric Vehicle (BEV)</td>\n",
              "      <td>Clean Alternative Fuel Vehicle Eligible</td>\n",
              "      <td>220</td>\n",
              "      <td>0</td>\n",
              "      <td>36.0</td>\n",
              "      <td>9426525</td>\n",
              "      <td>POINT (-122.40092 47.65908)</td>\n",
              "      <td>CITY OF SEATTLE - (WA)|CITY OF TACOMA - (WA)</td>\n",
              "      <td>5.303301e+10</td>\n",
              "    </tr>\n",
              "    <tr>\n",
              "      <th>3</th>\n",
              "      <td>1N4AZ0CP5D</td>\n",
              "      <td>King</td>\n",
              "      <td>Seattle</td>\n",
              "      <td>WA</td>\n",
              "      <td>98119.0</td>\n",
              "      <td>2013</td>\n",
              "      <td>NISSAN</td>\n",
              "      <td>LEAF</td>\n",
              "      <td>Battery Electric Vehicle (BEV)</td>\n",
              "      <td>Clean Alternative Fuel Vehicle Eligible</td>\n",
              "      <td>75</td>\n",
              "      <td>0</td>\n",
              "      <td>36.0</td>\n",
              "      <td>211807760</td>\n",
              "      <td>POINT (-122.3684 47.64586)</td>\n",
              "      <td>CITY OF SEATTLE - (WA)|CITY OF TACOMA - (WA)</td>\n",
              "      <td>5.303301e+10</td>\n",
              "    </tr>\n",
              "    <tr>\n",
              "      <th>4</th>\n",
              "      <td>5YJSA1E21H</td>\n",
              "      <td>Thurston</td>\n",
              "      <td>Lacey</td>\n",
              "      <td>WA</td>\n",
              "      <td>98516.0</td>\n",
              "      <td>2017</td>\n",
              "      <td>TESLA</td>\n",
              "      <td>MODEL S</td>\n",
              "      <td>Battery Electric Vehicle (BEV)</td>\n",
              "      <td>Clean Alternative Fuel Vehicle Eligible</td>\n",
              "      <td>210</td>\n",
              "      <td>0</td>\n",
              "      <td>22.0</td>\n",
              "      <td>185810306</td>\n",
              "      <td>POINT (-122.75379 47.06316)</td>\n",
              "      <td>PUGET SOUND ENERGY INC</td>\n",
              "      <td>5.306701e+10</td>\n",
              "    </tr>\n",
              "    <tr>\n",
              "      <th>...</th>\n",
              "      <td>...</td>\n",
              "      <td>...</td>\n",
              "      <td>...</td>\n",
              "      <td>...</td>\n",
              "      <td>...</td>\n",
              "      <td>...</td>\n",
              "      <td>...</td>\n",
              "      <td>...</td>\n",
              "      <td>...</td>\n",
              "      <td>...</td>\n",
              "      <td>...</td>\n",
              "      <td>...</td>\n",
              "      <td>...</td>\n",
              "      <td>...</td>\n",
              "      <td>...</td>\n",
              "      <td>...</td>\n",
              "      <td>...</td>\n",
              "    </tr>\n",
              "    <tr>\n",
              "      <th>130438</th>\n",
              "      <td>7SAYGDEE6P</td>\n",
              "      <td>Pierce</td>\n",
              "      <td>Gig Harbor</td>\n",
              "      <td>WA</td>\n",
              "      <td>98335.0</td>\n",
              "      <td>2023</td>\n",
              "      <td>TESLA</td>\n",
              "      <td>MODEL Y</td>\n",
              "      <td>Battery Electric Vehicle (BEV)</td>\n",
              "      <td>Eligibility unknown as battery range has not b...</td>\n",
              "      <td>0</td>\n",
              "      <td>0</td>\n",
              "      <td>26.0</td>\n",
              "      <td>231134102</td>\n",
              "      <td>POINT (-122.58354539999999 47.32344880000005)</td>\n",
              "      <td>BONNEVILLE POWER ADMINISTRATION||CITY OF TACOM...</td>\n",
              "      <td>5.305307e+10</td>\n",
              "    </tr>\n",
              "    <tr>\n",
              "      <th>130439</th>\n",
              "      <td>1N4BZ1CV7N</td>\n",
              "      <td>Pierce</td>\n",
              "      <td>Tacoma</td>\n",
              "      <td>WA</td>\n",
              "      <td>98408.0</td>\n",
              "      <td>2022</td>\n",
              "      <td>NISSAN</td>\n",
              "      <td>LEAF</td>\n",
              "      <td>Battery Electric Vehicle (BEV)</td>\n",
              "      <td>Eligibility unknown as battery range has not b...</td>\n",
              "      <td>0</td>\n",
              "      <td>0</td>\n",
              "      <td>29.0</td>\n",
              "      <td>185810943</td>\n",
              "      <td>POINT (-122.43810499999995 47.203220000000044)</td>\n",
              "      <td>BONNEVILLE POWER ADMINISTRATION||CITY OF TACOM...</td>\n",
              "      <td>5.305306e+10</td>\n",
              "    </tr>\n",
              "    <tr>\n",
              "      <th>130440</th>\n",
              "      <td>5YJYGDEE8M</td>\n",
              "      <td>King</td>\n",
              "      <td>Seattle</td>\n",
              "      <td>WA</td>\n",
              "      <td>98109.0</td>\n",
              "      <td>2021</td>\n",
              "      <td>TESLA</td>\n",
              "      <td>MODEL Y</td>\n",
              "      <td>Battery Electric Vehicle (BEV)</td>\n",
              "      <td>Eligibility unknown as battery range has not b...</td>\n",
              "      <td>0</td>\n",
              "      <td>0</td>\n",
              "      <td>36.0</td>\n",
              "      <td>176542418</td>\n",
              "      <td>POINT (-122.35022 47.63824)</td>\n",
              "      <td>CITY OF SEATTLE - (WA)|CITY OF TACOMA - (WA)</td>\n",
              "      <td>5.303301e+10</td>\n",
              "    </tr>\n",
              "    <tr>\n",
              "      <th>130441</th>\n",
              "      <td>5YJXCBE22L</td>\n",
              "      <td>Island</td>\n",
              "      <td>Camano Island</td>\n",
              "      <td>WA</td>\n",
              "      <td>98282.0</td>\n",
              "      <td>2020</td>\n",
              "      <td>TESLA</td>\n",
              "      <td>MODEL X</td>\n",
              "      <td>Battery Electric Vehicle (BEV)</td>\n",
              "      <td>Clean Alternative Fuel Vehicle Eligible</td>\n",
              "      <td>293</td>\n",
              "      <td>0</td>\n",
              "      <td>10.0</td>\n",
              "      <td>102834938</td>\n",
              "      <td>POINT (-122.40049 48.23986)</td>\n",
              "      <td>BONNEVILLE POWER ADMINISTRATION||PUD 1 OF SNOH...</td>\n",
              "      <td>5.302997e+10</td>\n",
              "    </tr>\n",
              "    <tr>\n",
              "      <th>130442</th>\n",
              "      <td>5YJ3E1EA5M</td>\n",
              "      <td>Pierce</td>\n",
              "      <td>Puyallup</td>\n",
              "      <td>WA</td>\n",
              "      <td>98375.0</td>\n",
              "      <td>2021</td>\n",
              "      <td>TESLA</td>\n",
              "      <td>MODEL 3</td>\n",
              "      <td>Battery Electric Vehicle (BEV)</td>\n",
              "      <td>Eligibility unknown as battery range has not b...</td>\n",
              "      <td>0</td>\n",
              "      <td>0</td>\n",
              "      <td>2.0</td>\n",
              "      <td>180473639</td>\n",
              "      <td>POINT (-122.30116 47.1165)</td>\n",
              "      <td>BONNEVILLE POWER ADMINISTRATION||CITY OF TACOM...</td>\n",
              "      <td>5.305307e+10</td>\n",
              "    </tr>\n",
              "  </tbody>\n",
              "</table>\n",
              "<p>130443 rows × 17 columns</p>\n",
              "</div>\n",
              "      <button class=\"colab-df-convert\" onclick=\"convertToInteractive('df-001aa68f-02c1-4b21-b36a-3adaa806b878')\"\n",
              "              title=\"Convert this dataframe to an interactive table.\"\n",
              "              style=\"display:none;\">\n",
              "        \n",
              "  <svg xmlns=\"http://www.w3.org/2000/svg\" height=\"24px\"viewBox=\"0 0 24 24\"\n",
              "       width=\"24px\">\n",
              "    <path d=\"M0 0h24v24H0V0z\" fill=\"none\"/>\n",
              "    <path d=\"M18.56 5.44l.94 2.06.94-2.06 2.06-.94-2.06-.94-.94-2.06-.94 2.06-2.06.94zm-11 1L8.5 8.5l.94-2.06 2.06-.94-2.06-.94L8.5 2.5l-.94 2.06-2.06.94zm10 10l.94 2.06.94-2.06 2.06-.94-2.06-.94-.94-2.06-.94 2.06-2.06.94z\"/><path d=\"M17.41 7.96l-1.37-1.37c-.4-.4-.92-.59-1.43-.59-.52 0-1.04.2-1.43.59L10.3 9.45l-7.72 7.72c-.78.78-.78 2.05 0 2.83L4 21.41c.39.39.9.59 1.41.59.51 0 1.02-.2 1.41-.59l7.78-7.78 2.81-2.81c.8-.78.8-2.07 0-2.86zM5.41 20L4 18.59l7.72-7.72 1.47 1.35L5.41 20z\"/>\n",
              "  </svg>\n",
              "      </button>\n",
              "      \n",
              "  <style>\n",
              "    .colab-df-container {\n",
              "      display:flex;\n",
              "      flex-wrap:wrap;\n",
              "      gap: 12px;\n",
              "    }\n",
              "\n",
              "    .colab-df-convert {\n",
              "      background-color: #E8F0FE;\n",
              "      border: none;\n",
              "      border-radius: 50%;\n",
              "      cursor: pointer;\n",
              "      display: none;\n",
              "      fill: #1967D2;\n",
              "      height: 32px;\n",
              "      padding: 0 0 0 0;\n",
              "      width: 32px;\n",
              "    }\n",
              "\n",
              "    .colab-df-convert:hover {\n",
              "      background-color: #E2EBFA;\n",
              "      box-shadow: 0px 1px 2px rgba(60, 64, 67, 0.3), 0px 1px 3px 1px rgba(60, 64, 67, 0.15);\n",
              "      fill: #174EA6;\n",
              "    }\n",
              "\n",
              "    [theme=dark] .colab-df-convert {\n",
              "      background-color: #3B4455;\n",
              "      fill: #D2E3FC;\n",
              "    }\n",
              "\n",
              "    [theme=dark] .colab-df-convert:hover {\n",
              "      background-color: #434B5C;\n",
              "      box-shadow: 0px 1px 3px 1px rgba(0, 0, 0, 0.15);\n",
              "      filter: drop-shadow(0px 1px 2px rgba(0, 0, 0, 0.3));\n",
              "      fill: #FFFFFF;\n",
              "    }\n",
              "  </style>\n",
              "\n",
              "      <script>\n",
              "        const buttonEl =\n",
              "          document.querySelector('#df-001aa68f-02c1-4b21-b36a-3adaa806b878 button.colab-df-convert');\n",
              "        buttonEl.style.display =\n",
              "          google.colab.kernel.accessAllowed ? 'block' : 'none';\n",
              "\n",
              "        async function convertToInteractive(key) {\n",
              "          const element = document.querySelector('#df-001aa68f-02c1-4b21-b36a-3adaa806b878');\n",
              "          const dataTable =\n",
              "            await google.colab.kernel.invokeFunction('convertToInteractive',\n",
              "                                                     [key], {});\n",
              "          if (!dataTable) return;\n",
              "\n",
              "          const docLinkHtml = 'Like what you see? Visit the ' +\n",
              "            '<a target=\"_blank\" href=https://colab.research.google.com/notebooks/data_table.ipynb>data table notebook</a>'\n",
              "            + ' to learn more about interactive tables.';\n",
              "          element.innerHTML = '';\n",
              "          dataTable['output_type'] = 'display_data';\n",
              "          await google.colab.output.renderOutput(dataTable, element);\n",
              "          const docLink = document.createElement('div');\n",
              "          docLink.innerHTML = docLinkHtml;\n",
              "          element.appendChild(docLink);\n",
              "        }\n",
              "      </script>\n",
              "    </div>\n",
              "  </div>\n",
              "  "
            ]
          },
          "metadata": {},
          "execution_count": 35
        }
      ]
    },
    {
      "cell_type": "code",
      "source": [
        "# Update column names\n",
        "data.columns = data.columns.str.strip().str.lower().str.replace(' ', '_')\n",
        "\n",
        "# Get cars and their types that do not qualify for clean alternative fuel vehicle\n",
        "non_qualifying_cars = data.loc[data['electric_vehicle_type'] != 'Clean Alternative Fuel Vehicle', ['make', 'model', 'electric_vehicle_type']]\n",
        "print(\"Cars and their types that do not qualify for clean alternative fuel vehicle:\")\n",
        "print(non_qualifying_cars)\n",
        "print()"
      ],
      "metadata": {
        "colab": {
          "base_uri": "https://localhost:8080/"
        },
        "id": "NriOqnj27ULV",
        "outputId": "43d491db-cf85-4a9b-c0d9-f157ce686b6d"
      },
      "execution_count": null,
      "outputs": [
        {
          "output_type": "stream",
          "name": "stdout",
          "text": [
            "Cars and their types that do not qualify for clean alternative fuel vehicle:\n",
            "          make    model                   electric_vehicle_type\n",
            "0        TESLA  MODEL X          Battery Electric Vehicle (BEV)\n",
            "1        HONDA  CLARITY  Plug-in Hybrid Electric Vehicle (PHEV)\n",
            "2        TESLA  MODEL 3          Battery Electric Vehicle (BEV)\n",
            "3       NISSAN     LEAF          Battery Electric Vehicle (BEV)\n",
            "4        TESLA  MODEL S          Battery Electric Vehicle (BEV)\n",
            "...        ...      ...                                     ...\n",
            "130438   TESLA  MODEL Y          Battery Electric Vehicle (BEV)\n",
            "130439  NISSAN     LEAF          Battery Electric Vehicle (BEV)\n",
            "130440   TESLA  MODEL Y          Battery Electric Vehicle (BEV)\n",
            "130441   TESLA  MODEL X          Battery Electric Vehicle (BEV)\n",
            "130442   TESLA  MODEL 3          Battery Electric Vehicle (BEV)\n",
            "\n",
            "[130443 rows x 3 columns]\n",
            "\n"
          ]
        }
      ]
    },
    {
      "cell_type": "code",
      "source": [
        "# Get TESLA cars with the model year made in Bothell City\n",
        "tesla_cars_bothell = data.loc[(data['make'] == 'TESLA') & (data['city'] == 'BOTHELL'), ['model_year', 'make', 'model']]\n",
        "print(\"TESLA cars with the model year made in Bothell City:\")\n",
        "print(tesla_cars_bothell)\n",
        "print()"
      ],
      "metadata": {
        "colab": {
          "base_uri": "https://localhost:8080/"
        },
        "id": "Dg6WDSiz7dy6",
        "outputId": "97487797-fddb-4830-85ee-e5011251b70c"
      },
      "execution_count": null,
      "outputs": [
        {
          "output_type": "stream",
          "name": "stdout",
          "text": [
            "TESLA cars with the model year made in Bothell City:\n",
            "Empty DataFrame\n",
            "Columns: [model_year, make, model]\n",
            "Index: []\n",
            "\n"
          ]
        }
      ]
    },
    {
      "cell_type": "code",
      "source": [
        "# Get cars with an electric range of more than 100 and made after 2015\n",
        "electric_cars_range_100_plus = data.loc[(data['electric_range'] > 100) & (data['model_year'] > 2015), ['make', 'model', 'electric_range', 'model_year']]\n",
        "print(\"Cars with an electric range of more than 100 and made after 2015:\")\n",
        "print(electric_cars_range_100_plus)\n",
        "print()"
      ],
      "metadata": {
        "colab": {
          "base_uri": "https://localhost:8080/"
        },
        "id": "CIbmwTNX8DLB",
        "outputId": "a85a36f0-0810-4f77-9d4b-16b22f4fb372"
      },
      "execution_count": null,
      "outputs": [
        {
          "output_type": "stream",
          "name": "stdout",
          "text": [
            "Cars with an electric range of more than 100 and made after 2015:\n",
            "          make    model  electric_range  model_year\n",
            "0        TESLA  MODEL X             238        2018\n",
            "2        TESLA  MODEL 3             220        2019\n",
            "4        TESLA  MODEL S             210        2017\n",
            "12       TESLA  MODEL 3             308        2020\n",
            "13       TESLA  MODEL 3             322        2020\n",
            "...        ...      ...             ...         ...\n",
            "130417   TESLA  MODEL Y             291        2020\n",
            "130428  NISSAN     LEAF             151        2018\n",
            "130432   TESLA  MODEL Y             291        2020\n",
            "130436   TESLA  MODEL 3             215        2018\n",
            "130441   TESLA  MODEL X             293        2020\n",
            "\n",
            "[34066 rows x 4 columns]\n",
            "\n"
          ]
        }
      ]
    },
    {
      "cell_type": "code",
      "source": [
        "# Plot distribution between 100 cities and electric vehicle type\n",
        "city_electric_type_counts = data.head(100).groupby(['city', 'electric_vehicle_type']).size().unstack().fillna(0)\n",
        "city_electric_type_counts.plot(kind='bar', stacked=True)\n",
        "plt.xlabel(\"City\")\n",
        "plt.ylabel(\"Count\")\n",
        "plt.title(\"Distribution between 100 Cities and Electric Vehicle Type\")\n",
        "plt.show()"
      ],
      "metadata": {
        "colab": {
          "base_uri": "https://localhost:8080/",
          "height": 579
        },
        "id": "SGNAgRBs8HQQ",
        "outputId": "b85cfc1d-f04c-4331-89d1-0670aa3b1d4b"
      },
      "execution_count": null,
      "outputs": [
        {
          "output_type": "display_data",
          "data": {
            "text/plain": [
              "<Figure size 640x480 with 1 Axes>"
            ],
            "image/png": "[encoded data removed]"
          },
          "metadata": {}
        }
      ]
    },
    {
      "cell_type": "markdown",
      "source": [
        "\n",
        "\n",
        "---\n",
        "\n"
      ],
      "metadata": {
        "id": "xkrD2_sb9Z_P"
      }
    },
    {
      "cell_type": "markdown",
      "source": [
        "**Question 10** :-\n",
        "\n",
        "Write a program to count the number of verbs, nouns, pronouns, and adjectives in a given particular phrase or paragraph, and return their respective count as a dictionary.\n",
        "\n",
        "**Note** -\n",
        "1. Write code comments wherever required for code\n",
        "2. You have to write at least 2 additional test cases in which your program will run successfully and provide an explanation for the same."
      ],
      "metadata": {
        "id": "te_vj4z89axX"
      }
    },
    {
      "cell_type": "markdown",
      "source": [
        "**Answer 10** :- Not Done. Tried with nltk library but lots of error happened."
      ],
      "metadata": {
        "id": "U1fIYiXj-Vdz"
      }
    },
    {
      "cell_type": "markdown",
      "source": [
        "\n",
        "\n",
        "---\n",
        "\n"
      ],
      "metadata": {
        "id": "LLxN-o9IESce"
      }
    }
  ]
}