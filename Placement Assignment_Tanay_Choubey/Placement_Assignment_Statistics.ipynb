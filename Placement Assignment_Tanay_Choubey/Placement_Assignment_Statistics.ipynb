{
  "nbformat": 4,
  "nbformat_minor": 0,
  "metadata": {
    "colab": {
      "provenance": []
    },
    "kernelspec": {
      "name": "python3",
      "display_name": "Python 3"
    },
    "language_info": {
      "name": "python"
    }
  },
  "cells": [
    {
      "cell_type": "markdown",
      "source": [
        "# Statistics"
      ],
      "metadata": {
        "id": "yfujURwwGLpH"
      }
    },
    {
      "cell_type": "markdown",
      "source": [
        "**Question 1 :-** \n",
        "\n",
        "A university wants to understand the relationship between the SAT scores of its applicants and their college GPA. They collect data on 500 students, including their SAT scores (out of 1600) and their college GPA (on a 4.0 scale). They find that the correlation coefficient between SAT scores and college GPA is 0.7. What does this correlation coefficient indicate about the relationship between SAT scores and college GPA?"
      ],
      "metadata": {
        "id": "fNsJgt6AGe8w"
      }
    },
    {
      "cell_type": "markdown",
      "source": [
        "**Answer 1 :-** \n",
        "\n",
        "A correlation coefficient of 0.7 indicates a strong positive correlation between SAT scores and college GPA. This means that there is a positive relationship between the two variables, and that students with higher SAT scores tend to have higher college GPAs. However, it is important to note that correlation does not equal causation. There are many other factors that can contribute to a student's college GPA, such as their work ethic, study habits, and extracurricular activities.\n",
        "\n",
        "The correlation coefficient can be interpreted as follows:\n",
        "\n",
        "1. A correlation coefficient of 0 indicates no correlation between the two variables.\n",
        "2. A correlation coefficient of 1 indicates a perfect positive correlation between the two variables.\n",
        "3. A correlation coefficient of -1 indicates a perfect negative correlation between the two variables.\n",
        "4. A correlation coefficient of 0.7 indicates a strong positive correlation between the two variables.\n",
        "\n",
        "In this case, the correlation coefficient of 0.7 indicates that there is a strong positive relationship between SAT scores and college GPA. This means that students with higher SAT scores tend to have higher college GPAs. However, it is important to note that correlation does not equal causation. There are many other factors that can contribute to a student's college GPA, such as their work ethic, study habits, and extracurricular activities."
      ],
      "metadata": {
        "id": "EaRLS_jbHz2e"
      }
    },
    {
      "cell_type": "markdown",
      "source": [
        "\n",
        "\n",
        "---\n",
        "\n"
      ],
      "metadata": {
        "id": "k7LGvOKmL519"
      }
    },
    {
      "cell_type": "markdown",
      "source": [
        "**Question 2 :-** \n",
        "\n",
        "Consider a dataset containing the heights (in centimeters) of 1000 individuals. The mean height is 170 cm with a standard deviation of 10 cm. The dataset is approximately normally distributed, and its skewness is approximately zero. Based on this information, answer the following questions:\n",
        "\n",
        "a. What percentage of individuals in the dataset have heights between 160 cm\n",
        "and 180 cm?\n",
        "\n",
        "b. If we randomly select 100 individuals from the dataset, what is the probability\n",
        "that their average height is greater than 175 cm?\n",
        "\n",
        "c. Assuming the dataset follows a normal distribution, what is the z-score\n",
        "corresponding to a height of 185 cm?\n",
        "\n",
        "d. We know that 5% of the dataset has heights below a certain value. What is\n",
        "the approximate height corresponding to this threshold?\n",
        "\n",
        "e. Calculate the coefficient of variation (CV) for the dataset.\n",
        "\n",
        "f. Calculate the skewness of the dataset and interpret the result."
      ],
      "metadata": {
        "id": "eBo0EHdfL6nt"
      }
    },
    {
      "cell_type": "markdown",
      "source": [
        "**Answer 2 :-** \n",
        "\n",
        "**a.** Percentage of individuals with heights between 160 cm and 180 cm is :\n",
        "\n",
        "Mean height = 170 cm\n",
        "\n",
        "Standard deviation = 10 cm\n",
        "\n",
        "1 standard deviation below the mean = 170 - 10 = 160 cm\n",
        "\n",
        "1 standard deviation above the mean = 170 + 10 = 180 cm\n",
        "\n",
        "Therefore, the percentage of individuals with heights between 160 cm and 180 cm is 68%.\n",
        "\n",
        "---\n",
        "\n",
        "**b.** The probability that the average height of 100 randomly selected individuals from the dataset is greater than 175 cm is about 16%. This is because the average height of 100 individuals is expected to be within 1 standard deviation of the mean height of the population. In this case, the mean height of the population is 170 cm and the standard deviation is 10 cm. Therefore, the average height of 100 individuals is expected to be between 160 cm and 180 cm. However, there is a 16% chance that the average height will be greater than 175 cm.\n",
        "\n",
        "The calculation is as follows:\n",
        "\n",
        "Mean height = 170 cm\n",
        "\n",
        "Standard deviation = 10 cm\n",
        "\n",
        "1 standard deviation below the mean = 170 - 10 = 160 cm\n",
        "\n",
        "1 standard deviation above the mean = 170 + 10 = 180 cm\n",
        "\n",
        "Therefore, the probability of the average height of 100 individuals being greater than 175 cm is 16%.\n",
        "\n",
        "\n",
        "---\n",
        "\n",
        "**c.** To calculate the Z-score corresponding to a height of 185 cm in a dataset that follows a normal distribution, we can use the formula:\n",
        "\n",
        "Z = (x - mean) / standard deviation\n",
        "\n",
        "Given that the mean height is 170 cm and the standard deviation is 10 cm, we can calculate the Z-score as follows:\n",
        "\n",
        "Z = (185 - 170) / 10\n",
        "Z = 15 / 10\n",
        "Z = 1.5\n",
        "\n",
        "Therefore, the Z-score corresponding to a height of 185 cm is 1.5.\n",
        "\n",
        "\n",
        "---\n",
        "\n",
        "**d.** Percentage of individuals with heights below 160 cm = 5%\n",
        "\n",
        "Mean height = 170 cm\n",
        "\n",
        "Standard deviation = 10 cm\n",
        "\n",
        "1 standard deviation below the mean = 170 - 10 = 160 cm\n",
        "\n",
        "Therefore, the percentage of individuals with heights below 160 cm is 5%.\n",
        "\n",
        "---\n",
        "\n",
        "**e.** To calculate the CV for the given dataset, we can use the following formula:\n",
        "\n",
        "CV = (Standard Deviation / Mean) * 100\n",
        "\n",
        "Given that the mean height is 170 cm and the standard deviation is 10 cm, we can calculate the CV as follows:\n",
        "\n",
        "CV = (10 / 170) * 100\n",
        "\n",
        "CV ≈ 5.88\n",
        "\n",
        "Therefore, the coefficient of variation (CV) for the dataset is approximately 5.88%.\n",
        "\n",
        "---\n",
        "\n",
        "**f.** To calculate the skewness we can use the following formula:\n",
        "\n",
        "Skewness = [(N / ((N - 1) * (N - 2))) * ∑((Xi - X̄)^3)] / σ^3\n",
        "\n",
        "Where:\n",
        "N is the sample size\n",
        "Xi is each data point in the dataset\n",
        "X̄ is the mean of the dataset\n",
        "σ is the standard deviation of the dataset\n",
        "\n",
        "However,as mentioned earlier that the skewness of the dataset is approximately zero. A skewness close to zero suggests a nearly symmetric distribution, with the data points evenly distributed around the mean.\n",
        "\n",
        "Therefore, based on the information given, we can interpret that the dataset is approximately symmetrically distributed without a significant skew towards either the left or right tail of the distribution.\n",
        "\n"
      ],
      "metadata": {
        "id": "8K1LxQNFMWIV"
      }
    },
    {
      "cell_type": "markdown",
      "source": [
        "\n",
        "\n",
        "---\n",
        "\n"
      ],
      "metadata": {
        "id": "SUagUPCFU9Ns"
      }
    },
    {
      "cell_type": "markdown",
      "source": [
        "**Question 3 :-** \n",
        "\n",
        "Consider the ‘Blood Pressure Before’ and ‘Blood Pressure After’ columns from the\n",
        "data and calculate the following\n",
        "\n",
        "https://drive.google.com/file/d/1mCjtYHiX--mMUjicuaP2gH3k-SnFxt8Y/view?usp=share_\n",
        "\n",
        "a. Measure the dispersion in both and interpret the results.\n",
        "\n",
        "b. Calculate mean and 5% confidence interval and plot it in a graph\n",
        "\n",
        "c. Calculate the Mean absolute deviation and Standard deviation and interpret\n",
        "the results.\n",
        "\n",
        "d. Calculate the correlation coefficient and check the significance of it at 1% level of significance."
      ],
      "metadata": {
        "id": "PhQ0djtHU98E"
      }
    },
    {
      "cell_type": "markdown",
      "source": [
        "**Answer 3 :-** Firstly download the dataset from the link given."
      ],
      "metadata": {
        "id": "Vy61m0D-YCDT"
      }
    },
    {
      "cell_type": "code",
      "source": [
        "import pandas as pd\n",
        "import matplotlib.pyplot as plt\n",
        "import scipy.stats as stats\n",
        "\n",
        "data = pd.read_csv(\"data.csv\")\n",
        "data.columns = [\"Patient ID\",\"Blood Pressure Before\",\"Blood Pressure After\"]\n",
        "data.drop(\"Patient ID\",axis=1,inplace=True)"
      ],
      "metadata": {
        "id": "ac-OZoPsHzOj"
      },
      "execution_count": null,
      "outputs": []
    },
    {
      "cell_type": "code",
      "source": [
        "# a. Measure the dispersion in both and interpret the results.\n",
        "\n",
        "import numpy as np\n",
        "# Calculate variance and standard deviation\n",
        "variance = np.var(data)\n",
        "std_dev = np.std(data)\n",
        "print(variance)\n",
        "print(\"=\"*30)\n",
        "print(std_dev)"
      ],
      "metadata": {
        "colab": {
          "base_uri": "https://localhost:8080/"
        },
        "id": "KEN9Al1VbpQq",
        "outputId": "55274281-a716-4d7b-b495-67a3c8e8789d"
      },
      "execution_count": null,
      "outputs": [
        {
          "output_type": "stream",
          "name": "stdout",
          "text": [
            "Blood Pressure Before    43.1019\n",
            "Blood Pressure After     46.9704\n",
            "dtype: float64\n",
            "==============================\n",
            "Blood Pressure Before    6.565204\n",
            "Blood Pressure After     6.853495\n",
            "dtype: float64\n"
          ]
        }
      ]
    },
    {
      "cell_type": "code",
      "source": [
        "#b. Calculate mean and 5% confidence interval and plot it in a graph\n",
        "\n",
        "# Calculate mean\n",
        "mean = np.mean(data)\n",
        "\n",
        "# Calculate 5% confidence interval\n",
        "confidence_interval = stats.t.interval(0.95, len(data) - 1, loc=np.mean(data), scale=stats.sem(data))\n",
        "\n",
        "# Plotting the mean and confidence interval\n",
        "plt.figure(figsize=(8, 6))\n",
        "plt.hist(data, bins=30, alpha=0.5)\n",
        "plt.xlabel('Height (cm)')\n",
        "plt.ylabel('Frequency')\n",
        "plt.title('Distribution with Mean and 95% Confidence Interval')\n",
        "plt.legend()\n",
        "plt.show()\n",
        "\n",
        "print(mean)\n",
        "print(f\"Confidence Interval (95%): {confidence_interval}\")"
      ],
      "metadata": {
        "colab": {
          "base_uri": "https://localhost:8080/",
          "height": 740
        },
        "id": "7z5YAHbRbw3V",
        "outputId": "bd60f681-8e8b-48e3-fefe-cd9b5e50b829"
      },
      "execution_count": null,
      "outputs": [
        {
          "output_type": "stream",
          "name": "stderr",
          "text": [
            "/usr/local/lib/python3.10/dist-packages/numpy/core/fromnumeric.py:3472: FutureWarning: In a future version, DataFrame.mean(axis=None) will return a scalar mean over the entire DataFrame. To retain the old behavior, use 'frame.mean(axis=0)' or just 'frame.mean()'\n",
            "  return mean(axis=axis, dtype=dtype, out=out, **kwargs)\n",
            "/usr/local/lib/python3.10/dist-packages/numpy/core/fromnumeric.py:3472: FutureWarning: In a future version, DataFrame.mean(axis=None) will return a scalar mean over the entire DataFrame. To retain the old behavior, use 'frame.mean(axis=0)' or just 'frame.mean()'\n",
            "  return mean(axis=axis, dtype=dtype, out=out, **kwargs)\n",
            "WARNING:matplotlib.legend:No artists with labels found to put in legend.  Note that artists whose label start with an underscore are ignored when legend() is called with no argument.\n"
          ]
        },
        {
          "output_type": "display_data",
          "data": {
            "text/plain": [
              "<Figure size 800x600 with 1 Axes>"
            ],
            "image/png": "[encoded data removed]"
          },
          "metadata": {}
        },
        {
          "output_type": "stream",
          "name": "stdout",
          "text": [
            "Blood Pressure Before    133.91\n",
            "Blood Pressure After     128.36\n",
            "dtype: float64\n",
            "Confidence Interval (95%): (array([132.60075849, 126.99326698]), array([135.21924151, 129.72673302]))\n"
          ]
        }
      ]
    },
    {
      "cell_type": "code",
      "source": [
        "#c. Calculate the Mean absolute deviation and Standard deviation and interpretthe results\n",
        "\n",
        "c= np.mean(np.abs(data-np.mean(data)))\n",
        "sd = np.std(data)\n",
        "print(c)\n",
        "print(\"*\"*50)\n",
        "print(sd)"
      ],
      "metadata": {
        "colab": {
          "base_uri": "https://localhost:8080/"
        },
        "id": "Ah5tkZQFb3mV",
        "outputId": "f4d2cdb4-af23-4d0b-b7bb-9a26d5b6f517"
      },
      "execution_count": null,
      "outputs": [
        {
          "output_type": "stream",
          "name": "stdout",
          "text": [
            "Blood Pressure Before    5.7118\n",
            "Blood Pressure After     5.9000\n",
            "dtype: float64\n",
            "**************************************************\n",
            "Blood Pressure Before    6.565204\n",
            "Blood Pressure After     6.853495\n",
            "dtype: float64\n"
          ]
        },
        {
          "output_type": "stream",
          "name": "stderr",
          "text": [
            "/usr/local/lib/python3.10/dist-packages/numpy/core/fromnumeric.py:3472: FutureWarning: In a future version, DataFrame.mean(axis=None) will return a scalar mean over the entire DataFrame. To retain the old behavior, use 'frame.mean(axis=0)' or just 'frame.mean()'\n",
            "  return mean(axis=axis, dtype=dtype, out=out, **kwargs)\n",
            "/usr/local/lib/python3.10/dist-packages/numpy/core/fromnumeric.py:3472: FutureWarning: In a future version, DataFrame.mean(axis=None) will return a scalar mean over the entire DataFrame. To retain the old behavior, use 'frame.mean(axis=0)' or just 'frame.mean()'\n",
            "  return mean(axis=axis, dtype=dtype, out=out, **kwargs)\n"
          ]
        }
      ]
    },
    {
      "cell_type": "code",
      "source": [
        "#d. Calculate the correlation coefficient and check the significance of it at 1% levelof significance.\n",
        "\n",
        "# Given datasets\n",
        "x = data[\"Blood Pressure Before\"]  \n",
        "y = data[\"Blood Pressure After\"]\n",
        "\n",
        "# Calculate correlation coefficient\n",
        "corr_coef, p_value = stats.pearsonr(x, y)\n",
        "\n",
        "print(f\"Correlation Coefficient: {corr_coef:.2f}\")\n",
        "print(f\"p-value: {p_value:.4f}\")\n",
        "\n",
        "# Check significance at 1% level of significance\n",
        "if p_value < 0.01:\n",
        "    print(\"The correlation coefficient is statistically significant at the 1% level of significance.\")\n",
        "else:\n",
        "    print(\"The correlation coefficient is not statistically significant at the 1% level of significance.\")\n"
      ],
      "metadata": {
        "colab": {
          "base_uri": "https://localhost:8080/"
        },
        "id": "Xcn0LvXGbIKV",
        "outputId": "bd6457c9-2002-4743-f2a6-5f844d23224c"
      },
      "execution_count": null,
      "outputs": [
        {
          "output_type": "stream",
          "name": "stdout",
          "text": [
            "Correlation Coefficient: 0.98\n",
            "p-value: 0.0000\n",
            "The correlation coefficient is statistically significant at the 1% level of significance.\n"
          ]
        }
      ]
    },
    {
      "cell_type": "markdown",
      "source": [
        "\n",
        "\n",
        "---\n",
        "\n"
      ],
      "metadata": {
        "id": "OQG05qyBcoTr"
      }
    },
    {
      "cell_type": "markdown",
      "source": [
        "**Question 4 :-**\n",
        "\n",
        "A group of 20 friends decide to play a game in which they each write a number\n",
        "between 1 and 20 on a slip of paper and put it into a hat. They then draw one slip of paper at random. What is the probability that the number on the slip of paper is a perfect square (i.e., 1, 4, 9, or 16)?\n"
      ],
      "metadata": {
        "id": "gxn74XorcoSa"
      }
    },
    {
      "cell_type": "markdown",
      "source": [
        "**Answer 4 :-** \n",
        "\n",
        "To calculate the probability of drawing a perfect square number (1, 4, 9, or 16) from the slips of paper, we need to determine the number of favorable outcomes (perfect squares) and the total number of possible outcomes.\n",
        "\n",
        "Number of favorable outcomes: There are four perfect square numbers between 1 and 20 (1, 4, 9, and 16).\n",
        "\n",
        "Total number of possible outcomes: Since each friend writes a number between 1 and 20 on a slip of paper, the total number of possible outcomes is 20.\n",
        "\n",
        "Probability = Number of favorable outcomes / Total number of possible outcomes\n",
        "\n",
        "Probability = 4 / 20\n",
        "\n",
        "Probability = 1 / 5\n",
        "\n",
        "Therefore, the probability of drawing a perfect square number from the slips of paper is 1/5 or 0.2, which can also be expressed as 20%.\n",
        "\n"
      ],
      "metadata": {
        "id": "YRyFP0Mzc46E"
      }
    },
    {
      "cell_type": "markdown",
      "source": [
        "\n",
        "\n",
        "---\n",
        "\n"
      ],
      "metadata": {
        "id": "ZQzFgHi1eRDy"
      }
    },
    {
      "cell_type": "markdown",
      "source": [
        "**Question 5 :-**\n",
        "\n",
        "A certain city has two taxi companies: Company A has 80% of the taxis and\n",
        "Company B has 20% of the taxis. Company A's taxis have a 95% success rate for picking up passengers on time, while Company B's taxis have a 90% success rate. If a randomly selected taxi is late, what is the probability that it belongs to Company A?"
      ],
      "metadata": {
        "id": "OJi9r2HVeSt5"
      }
    },
    {
      "cell_type": "markdown",
      "source": [
        "**Answer 5 :-**\n",
        "\n",
        "Given that Company A has 80% of the taxis with a 95% success rate, and Company B has 20% of the taxis with a 90% success rate, we can compare the failure rates (1 - success rate) to determine the probability of a taxi being late.\n",
        "\n",
        "The failure rate for Company A is 1 - 0.95 = 0.05, and the failure rate for Company B is 1 - 0.90 = 0.10.\n",
        "\n",
        "Since the probability of selecting a taxi from Company A is 80% (0.8) and from Company B is 20% (0.2), we can calculate the overall probability of a taxi being late as follows:\n",
        "\n",
        "P(Late) = (P(A) * Failure Rate of A) + (P(B) * Failure Rate of B)\n",
        "= (0.8 * 0.05) + (0.2 * 0.10)\n",
        "= 0.04 + 0.02\n",
        "= 0.06\n",
        "\n",
        "To find the probability that a randomly selected late taxi belongs to Company A, we divide the probability of Company A being late by the overall probability of a taxi being late:\n",
        "\n",
        "P(A|Late) = (P(A) * Failure Rate of A) / P(Late)\n",
        "= (0.8 * 0.05) / 0.06\n",
        "= 0.04 / 0.06\n",
        "= 0.6667\n",
        "\n",
        "Therefore, the probability that a randomly selected taxi, which is late, belongs to Company A is approximately 0.6667 or 66.67%."
      ],
      "metadata": {
        "id": "jJxILnoKgo6q"
      }
    },
    {
      "cell_type": "markdown",
      "source": [
        "\n",
        "\n",
        "---\n",
        "\n"
      ],
      "metadata": {
        "id": "KjY-2KPBgx0B"
      }
    },
    {
      "cell_type": "markdown",
      "source": [
        "**Question 6 :-** \n",
        "\n",
        "A pharmaceutical company is developing a drug that is supposed to reduce blood\n",
        "pressure. They conduct a clinical trial with 100 patients and record their blood\n",
        "pressure before and after taking the drug. The company wants to know if the change in blood pressure follows a normal distribution.\n",
        "\n",
        "https://drive.google.com/file/d/1mCjtYHiX--mMUjicuaP2gH3k-SnFxt8Y/view?usp=share_\n"
      ],
      "metadata": {
        "id": "3aYDIM4ng0YV"
      }
    },
    {
      "cell_type": "markdown",
      "source": [
        "**Answer 6 :-** Firstly download the dataset from the link given."
      ],
      "metadata": {
        "id": "rVGsiQBPj7jA"
      }
    },
    {
      "cell_type": "code",
      "source": [
        "import pandas as pd\n",
        "from scipy import stats\n",
        "\n",
        "# Read the CSV file\n",
        "data = pd.read_csv('data.csv')\n",
        "\n",
        "# Check the column names in the dataset\n",
        "print(data.columns)"
      ],
      "metadata": {
        "colab": {
          "base_uri": "https://localhost:8080/"
        },
        "id": "ZDQOv5WBi-WU",
        "outputId": "88fd1687-f973-476c-976c-3c13254b0062"
      },
      "execution_count": null,
      "outputs": [
        {
          "output_type": "stream",
          "name": "stdout",
          "text": [
            "Index(['Patient ID', ' Blood Pressure Before (mmHg)',\n",
            "       ' Blood Pressure After (mmHg)'],\n",
            "      dtype='object')\n"
          ]
        }
      ]
    },
    {
      "cell_type": "code",
      "source": [
        "# Extract the columns containing the before and after blood pressure measurements\n",
        "blood_pressure_before = data[' Blood Pressure Before (mmHg)']  \n",
        "blood_pressure_after = data[' Blood Pressure After (mmHg)']  \n",
        "\n",
        "# Perform Shapiro-Wilk test on the change in blood pressure\n",
        "_, p_value = stats.shapiro(blood_pressure_after - blood_pressure_before)\n",
        "\n",
        "# Print Shapiro-Wilk test result\n",
        "print(\"Shapiro-Wilk Test:\")\n",
        "print(\"Test Statistic:\", _)\n",
        "print(\"p-value:\", p_value)\n",
        "\n",
        "# Interpret the result\n",
        "alpha = 0.05  # Significance level\n",
        "if p_value > alpha:\n",
        "    print(\"The change in blood pressure follows a normal distribution.\")\n",
        "else:\n",
        "    print(\"The change in blood pressure does not follow a normal distribution.\")"
      ],
      "metadata": {
        "colab": {
          "base_uri": "https://localhost:8080/"
        },
        "id": "wrD5_K5YkdWH",
        "outputId": "51d93fd1-88bd-435e-853f-edf972700bf4"
      },
      "execution_count": null,
      "outputs": [
        {
          "output_type": "stream",
          "name": "stdout",
          "text": [
            "Shapiro-Wilk Test:\n",
            "Test Statistic: 0.9538203477859497\n",
            "p-value: 0.0014939684187993407\n",
            "The change in blood pressure does not follow a normal distribution.\n"
          ]
        }
      ]
    },
    {
      "cell_type": "markdown",
      "source": [
        "\n",
        "\n",
        "---\n",
        "\n"
      ],
      "metadata": {
        "id": "QzzP2pKMkob5"
      }
    },
    {
      "cell_type": "markdown",
      "source": [
        "**Question 7 :-** \n",
        "\n",
        "The equations of two lines of regression, obtained in a correlation analysis\n",
        "between variables X and Y are as follows:\n",
        "\n",
        "2X + 3 - 8 = 0 , 2Y + X - 5 = 0 The variance of X = 4 Find the\n",
        "\n",
        "a. Variance of Y\n",
        "\n",
        "b. Coefficient of determination of X and Y\n",
        "\n",
        "c. Standard error of estimate of X on Y and of Y on X.\n"
      ],
      "metadata": {
        "id": "7JbQX8v7kpMB"
      }
    },
    {
      "cell_type": "markdown",
      "source": [
        "**Answer 7 :-** \n",
        "\n",
        "To calculate the variance of Y, coefficient of determination (R²), and standard errors of estimate, we can analyze the given regression equations and the variance of X.\n",
        "\n",
        "The given equations are:\n",
        "\n",
        "`2X + 3 - 8 = 0  `     --> Equation 1\n",
        "\n",
        "`2Y + X - 5 = 0  `     --> Equation 2\n",
        "\n",
        "**a.** Variance of Y:\n",
        "\n",
        "From Equation 2, we can rearrange it to solve for Y:\n",
        "\n",
        "`2Y = -X + 5`\n",
        "\n",
        "`Y = (-1/2)X + (5/2)`\n",
        "\n",
        "\n",
        "The coefficient of X is (-1/2). Since the variance of X is given as 4, we can calculate the variance of Y using the formula:\n",
        "\n",
        "`Variance of Y = (Coefficient of X)² * Variance of X`\n",
        "               \n",
        "`              = (-1/2)² * 4`\n",
        "\n",
        "`              = 1 * 4`\n",
        "\n",
        "`              = 4`\n",
        "\n",
        "Therefore, the variance of Y is 4.\n",
        "\n",
        "---\n",
        "\n",
        "**b.** . Coefficient of determination of X and Y :\n",
        "The coefficient of determination (R²) measures the proportion of the variance in Y that can be explained by the regression model. It can be calculated as the square of the correlation coefficient (r) between X and Y.\n",
        "\n",
        "From the given equations, we can solve for X and Y in terms of each other:\n",
        "\n",
        "`X = (8 - 3) / 2`\n",
        "\n",
        "`X = 5/2`\n",
        "\n",
        "`Y = (5 - X) / 2`\n",
        "\n",
        "`Y = (5 - (5/2)) / 2`\n",
        "\n",
        "`Y = 5/4`\n",
        "\n",
        "We can see that X and Y are constant values, meaning there is no variation in the data. In this case, the coefficient of determination (R²) is always 1. So,\n",
        "\n",
        "Coefficient of determination (R²) = 1\n",
        "\n",
        "---\n",
        "\n",
        "**c.** Standard error of estimate:\n",
        "The standard error of estimate measures the average distance between the observed values and the predicted values from the regression line. We can calculate the standard error of estimate for both X on Y and Y on X using the formulas:\n",
        "\n",
        "`Standard error of estimate of X on Y = sqrt((1 - R²) * Variance of X)`\n",
        "\n",
        "`Standard error of estimate of Y on X = sqrt((1 - R²) * Variance of Y)`\n",
        "\n",
        "**For X on Y:**\n",
        "\n",
        "`Standard error of estimate of X on Y = sqrt((1 - 1) * 4)`\n",
        "\n",
        "`                                    = sqrt(0 * 4)`\n",
        "\n",
        "`                                    = sqrt(0)`\n",
        "\n",
        "`                                    = 0`\n",
        "\n",
        "**For Y on X:**\n",
        "\n",
        "`Standard error of estimate of Y on X = sqrt((1 - 1) * 4)`\n",
        "\n",
        "`                                    = sqrt(0 * 4)`\n",
        "\n",
        "`                                    = sqrt(0)`\n",
        "\n",
        "`                                    = 0`\n",
        "\n",
        "Therefore, the standard error of estimate for both X on Y and Y on X is 0."
      ],
      "metadata": {
        "id": "vjJEItaYlgvZ"
      }
    },
    {
      "cell_type": "markdown",
      "source": [
        "\n",
        "\n",
        "---\n",
        "\n"
      ],
      "metadata": {
        "id": "JaeqKTWnpxcP"
      }
    },
    {
      "cell_type": "markdown",
      "source": [
        "**Question 8 :-**\n",
        "\n",
        "The anxiety levels of 10 participants were measured before and after a new therapy. The scores are not normally distributed. Use the Wilcoxon signed-rank test to test whether the therapy had a significant effect on anxiety levels. The data is given below: \n",
        "Participant\n",
        "Before therapy\n",
        "After therapy\n",
        "Difference"
      ],
      "metadata": {
        "id": "WNfngIOLp0T5"
      }
    },
    {
      "cell_type": "markdown",
      "source": [
        "**Answer 8 :-** Given :    \n",
        "\n",
        "before_therapy = [10,8,12,15,6,9,11,7,14,10]\n",
        "\n",
        "after_therapy = [7,6,10,12,5,8,9,6,12,8] \n",
        "\n",
        "differences = [-3,-2,-2,-3,-1,-1,-2,-1,-2,-2]"
      ],
      "metadata": {
        "id": "fSHdGFEwq1QX"
      }
    },
    {
      "cell_type": "code",
      "source": [
        "from scipy.stats import wilcoxon\n",
        "\n",
        "# Given Data\n",
        "before_therapy = [10,8,12,15,6,9,11,7,14,10]\n",
        "\n",
        "after_therapy = [7,6,10,12,5,8,9,6,12,8] \n",
        "\n",
        "differences = [-3,-2,-2,-3,-1,-1,-2,-1,-2,-2]\n",
        "\n",
        "# Perform the Wilcoxon signed-rank test\n",
        "statistic, p_value = wilcoxon(differences)\n",
        "\n",
        "# Interpret the result\n",
        "alpha = 0.05  # Significance level\n",
        "if p_value > alpha:\n",
        "    print(\"The therapy did not have a significant effect on anxiety levels.\")\n",
        "else:\n",
        "    print(\"The therapy had a significant effect on anxiety levels.\")"
      ],
      "metadata": {
        "colab": {
          "base_uri": "https://localhost:8080/"
        },
        "id": "H2r7B6vGlgEq",
        "outputId": "fe9c2277-33fd-42d2-f870-154263ae4648"
      },
      "execution_count": null,
      "outputs": [
        {
          "output_type": "stream",
          "name": "stdout",
          "text": [
            "The therapy had a significant effect on anxiety levels.\n"
          ]
        }
      ]
    },
    {
      "cell_type": "markdown",
      "source": [
        "\n",
        "\n",
        "---\n",
        "\n"
      ],
      "metadata": {
        "id": "uiN_nKjesbD3"
      }
    },
    {
      "cell_type": "markdown",
      "source": [
        "**Question 9 :-**\n",
        "\n",
        "Given the score of students in multiple exams\n",
        "\n",
        "Test the hypothesis that the mean scores of all the students are the same. If not, name the student with the highest score."
      ],
      "metadata": {
        "id": "InPVSVgtsdAY"
      }
    },
    {
      "cell_type": "markdown",
      "source": [
        "**Answer 9 :-** Given :\n",
        "\n",
        "'Karan': [85,90,92],\n",
        "\n",
        "'Deepa': [70,80,85],\n",
        "\n",
        "'Kartik': [90,85,88],\n",
        "\n",
        "'Chandan': [75,70,75],\n",
        "\n",
        "'Jeevan': [95,92,96]"
      ],
      "metadata": {
        "id": "t4vLkDI_sss3"
      }
    },
    {
      "cell_type": "code",
      "source": [
        "import pandas as pd\n",
        "from scipy.stats import f_oneway\n",
        "\n",
        "#Given Data\n",
        "data = pd.DataFrame({\n",
        "    'Karan': [85,90,92],\n",
        "    'Deepa': [70,80,85],\n",
        "    'Kartik': [90,85,88],\n",
        "    'Chandan': [75,70,75],\n",
        "    'Jeevan': [95,92,96]\n",
        "})\n",
        "\n",
        "#ANOVA test\n",
        "statistic, p_value = f_oneway(*data.values.T)\n",
        "\n",
        "#Significance level\n",
        "alpha = 0.05\n",
        "\n",
        "#Interpret the result\n",
        "if p_value > alpha:\n",
        "    print(\"The mean scores of all students are the same.\")\n",
        "else:\n",
        "    print(\"The mean scores of all students are not the same.\")\n",
        "\n",
        "    #Identify the student with the highest score\n",
        "    highest_score_student = data.columns[data.mean().argmax()]\n",
        "    print(\"The student with the highest score is:\", highest_score_student)\n"
      ],
      "metadata": {
        "colab": {
          "base_uri": "https://localhost:8080/"
        },
        "id": "b5MY7ksusZ7f",
        "outputId": "88f76adb-b592-47fd-bc20-c45b12d861b0"
      },
      "execution_count": null,
      "outputs": [
        {
          "output_type": "stream",
          "name": "stdout",
          "text": [
            "The mean scores of all students are not the same.\n",
            "The student with the highest score is: Jeevan\n"
          ]
        }
      ]
    },
    {
      "cell_type": "markdown",
      "source": [
        "\n",
        "\n",
        "---\n",
        "\n"
      ],
      "metadata": {
        "id": "jNDitFxpvFnX"
      }
    },
    {
      "cell_type": "markdown",
      "source": [
        "**Question 10 :-** \n",
        "\n",
        "A factory produces light bulbs, and the probability of a bulb being defective is 0.05. The factory produces a large batch of 500 light bulbs.\n",
        "\n",
        "a. What is the probability that exactly 20 bulbs are defective?\n",
        "\n",
        "b. What is the probability that at least 10 bulbs are defective?\n",
        "\n",
        "c. What is the probability that at max 15 bulbs are defective?\n",
        "\n",
        "d. On average, how many defective bulbs would you expect in a batch of 500?\n"
      ],
      "metadata": {
        "id": "1J4J525wvGeX"
      }
    },
    {
      "cell_type": "markdown",
      "source": [
        "**Answer 10 :-** Let,\n",
        "\n",
        "n = number of trials (total number of bulbs produced) = 500\n",
        "\n",
        "p = probability of success (probability of a bulb being defective) = 0.05"
      ],
      "metadata": {
        "id": "i5vLbiVsxEC_"
      }
    },
    {
      "cell_type": "code",
      "source": [
        "import scipy.stats as stats\n",
        "\n",
        "n = 500\n",
        "p = 0.05\n",
        "\n",
        "# a. Probability of exactly 20 bulbs being defective\n",
        "prob_20_defective = stats.binom.pmf(20, n, p)\n",
        "\n",
        "# b. Probability of at least 10 bulbs being defective\n",
        "prob_at_least_10_defective = 1 - stats.binom.cdf(9, n, p)\n",
        "\n",
        "# c. Probability of at most 15 bulbs being defective\n",
        "prob_at_most_15_defective = stats.binom.cdf(15, n, p)\n",
        "\n",
        "# d. Expected number of defective bulbs\n",
        "expected_defective_bulbs = n * p\n",
        "\n",
        "print(\"a. Probability of exactly 20 bulbs being defective:\", prob_20_defective)\n",
        "print(\"b. Probability of at least 10 bulbs being defective:\", prob_at_least_10_defective)\n",
        "print(\"c. Probability of at most 15 bulbs being defective:\", prob_at_most_15_defective)\n",
        "print(\"d. Expected number of defective bulbs:\", expected_defective_bulbs)"
      ],
      "metadata": {
        "colab": {
          "base_uri": "https://localhost:8080/"
        },
        "id": "UWd9z-yJvD4K",
        "outputId": "f1f608b8-2a41-4b8f-d079-da5ede647d0c"
      },
      "execution_count": null,
      "outputs": [
        {
          "output_type": "stream",
          "name": "stdout",
          "text": [
            "a. Probability of exactly 20 bulbs being defective: 0.051616192536641056\n",
            "b. Probability of at least 10 bulbs being defective: 0.9998316463654902\n",
            "c. Probability of at most 15 bulbs being defective: 0.01985837716300623\n",
            "d. Expected number of defective bulbs: 25.0\n"
          ]
        }
      ]
    },
    {
      "cell_type": "markdown",
      "source": [
        "\n",
        "\n",
        "---\n",
        "\n"
      ],
      "metadata": {
        "id": "WHIVclgqyzMm"
      }
    },
    {
      "cell_type": "markdown",
      "source": [
        "**Question 11 :-** \n",
        "\n",
        "Given the data of a feature contributing to different classes\n",
        "\n",
        "https://drive.google.com/file/d/1mCjtYHiX--mMUjicuaP2gH3k-SnFxt8Y/view?usp=share_\n",
        "\n",
        "a. Check whether the distribution of all the classes are the same or not.\n",
        "\n",
        "b. Check for the equality of variance\n",
        "\n",
        "c. Which amount LDA and QDA would perform better on this data for classification and why.\n",
        "\n",
        "d. Check the equality of mean for between all the classes.\n",
        "\n"
      ],
      "metadata": {
        "id": "Tdjyueufy2K-"
      }
    },
    {
      "cell_type": "markdown",
      "source": [
        "**Answer 11 :-** Not Done."
      ],
      "metadata": {
        "id": "LXF_W7Vu0w_X"
      }
    },
    {
      "cell_type": "markdown",
      "source": [
        "\n",
        "\n",
        "---\n",
        "\n"
      ],
      "metadata": {
        "id": "3lkeWFJa207u"
      }
    },
    {
      "cell_type": "markdown",
      "source": [
        "**Question 12 :-** A pharmaceutical company develops a new drug and wants to compare its effectiveness against a standard drug for treating a particular condition. They conduct a study with two groups: Group A receives the new drug, and Group B receives the standard drug. The company measures the improvement in a specific symptom for both groups after a 4-week treatment period.\n",
        "\n",
        "**a.** The company collects data from 30 patients in each group and calculates the mean improvement score and the standard deviation of improvement for each\n",
        "group. The mean improvement score for Group A is 2.5 with a standard deviation of 0.8, while the mean improvement score for Group B is 2.2 with a standard deviation of 0.6. Conduct a t-test to determine if there is a significant difference in the mean improvement scores between the two groups. Use a significance level of 0.05.\n",
        "\n",
        "**b.** Based on the t-test results, state whether the null hypothesis should be\n",
        "rejected or not. Provide a conclusion in the context of the study.\n"
      ],
      "metadata": {
        "id": "oKZq6Y2f23yP"
      }
    },
    {
      "cell_type": "markdown",
      "source": [
        "**Answer 12 :-** "
      ],
      "metadata": {
        "id": "YGlQTG_w3Uft"
      }
    },
    {
      "cell_type": "code",
      "source": [
        "import scipy.stats as stats\n",
        "\n",
        "#Given data\n",
        "mean_A = 2.5\n",
        "std_A = 0.8\n",
        "n_A = 30\n",
        "\n",
        "mean_B = 2.2\n",
        "std_B = 0.6\n",
        "n_B = 30\n",
        "\n",
        "#t-test\n",
        "t_stat, p_value = stats.ttest_ind_from_stats(mean_A, std_A, n_A, mean_B, std_B, n_B)\n",
        "\n",
        "#Results\n",
        "print(\"t-statistic:\", t_stat)\n",
        "print(\"p-value:\", p_value)\n",
        "\n",
        "#Comparing p-value with significance level\n",
        "alpha = 0.05\n",
        "if p_value < alpha:\n",
        "    conclusion = \"Reject the null hypothesis\"\n",
        "else:\n",
        "    conclusion = \"Fail to reject the null hypothesis\"\n",
        "\n",
        "#Conclusion\n",
        "print(\"Based on the significance level of\", alpha)\n",
        "print(conclusion)\n"
      ],
      "metadata": {
        "colab": {
          "base_uri": "https://localhost:8080/"
        },
        "id": "T4EqsY9Q4Cif",
        "outputId": "3e2c2640-4dc9-4784-ed76-12de8160a14f"
      },
      "execution_count": null,
      "outputs": [
        {
          "output_type": "stream",
          "name": "stdout",
          "text": [
            "t-statistic: 1.6431676725154976\n",
            "p-value: 0.10575916705583671\n",
            "Based on the significance level of 0.05\n",
            "Fail to reject the null hypothesis\n"
          ]
        }
      ]
    },
    {
      "cell_type": "markdown",
      "source": [
        "\n",
        "\n",
        "---\n",
        "\n"
      ],
      "metadata": {
        "id": "pJ1csFe05ZSl"
      }
    }
  ]
}